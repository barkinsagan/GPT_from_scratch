{
 "cells": [
  {
   "cell_type": "code",
   "execution_count": 31,
   "metadata": {},
   "outputs": [
    {
     "name": "stdout",
     "output_type": "stream",
     "text": [
      "Memory stats 1:\n",
      "Allocated: 0.02 GB\n",
      "Cached: 0.07 GB\n",
      "Output text:\n",
      " Every effort moves you Spirits caves Feng lith cohorts Physical Position Wind Bars Vern\n",
      "Memory stats 2:\n",
      "Allocated: 0.02 GB\n",
      "Cached: 0.07 GB\n",
      "Memory stats 3:\n",
      "Allocated: 0.67 GB\n",
      "Cached: 0.72 GB\n",
      "Memory stats 4:\n",
      "Allocated: 0.67 GB\n",
      "Cached: 0.72 GB\n",
      "Memory stats 5:\n",
      "Allocated: 0.67 GB\n",
      "Cached: 0.72 GB\n",
      "Ep 1 (Step 000000): Train loss 9.913, Val loss 10.196\n",
      "Ep 1 (Step 000005): Train loss 8.295, Val loss 8.533\n",
      "Ep 1 (Step 000010): Train loss 7.293, Val loss 7.420\n",
      "Ep 1 (Step 000015): Train loss 6.455, Val loss 6.818\n",
      "Every effort moves you,,,,,,,,,,,,,,,,,,,,,,,,,,,,,,,,,,,,,,,,,,,,,,,,,,\n",
      "Ep 2 (Step 000020): Train loss 6.197, Val loss 6.638\n",
      "Ep 2 (Step 000025): Train loss 5.671, Val loss 6.500\n",
      "Ep 2 (Step 000030): Train loss 5.826, Val loss 6.498\n",
      "Ep 2 (Step 000035): Train loss 5.530, Val loss 6.482\n"
     ]
    },
    {
     "ename": "KeyboardInterrupt",
     "evalue": "",
     "output_type": "error",
     "traceback": [
      "\u001b[0;31m---------------------------------------------------------------------------\u001b[0m",
      "\u001b[0;31mKeyboardInterrupt\u001b[0m                         Traceback (most recent call last)",
      "Cell \u001b[0;32mIn[31], line 6\u001b[0m\n\u001b[1;32m      2\u001b[0m \u001b[38;5;28;01mwith\u001b[39;00m torch\u001b[38;5;241m.\u001b[39mno_grad():\n\u001b[1;32m      3\u001b[0m     torch\u001b[38;5;241m.\u001b[39mcuda\u001b[38;5;241m.\u001b[39mempty_cache()\n\u001b[0;32m----> 6\u001b[0m \u001b[38;5;28;01mfrom\u001b[39;00m \u001b[38;5;21;01mfinal_gpt\u001b[39;00m \u001b[38;5;28;01mimport\u001b[39;00m GPTModel\n\u001b[1;32m      8\u001b[0m GPT_CONFIG_124M \u001b[38;5;241m=\u001b[39m {\n\u001b[1;32m      9\u001b[0m     \u001b[38;5;124m\"\u001b[39m\u001b[38;5;124mvocab_size\u001b[39m\u001b[38;5;124m\"\u001b[39m: \u001b[38;5;241m50257\u001b[39m,\n\u001b[1;32m     10\u001b[0m     \u001b[38;5;124m\"\u001b[39m\u001b[38;5;124mcontext_length\u001b[39m\u001b[38;5;124m\"\u001b[39m: \u001b[38;5;241m4\u001b[39m,    \u001b[38;5;66;03m#1\u001b[39;00m\n\u001b[0;32m   (...)\u001b[0m\n\u001b[1;32m     15\u001b[0m     \u001b[38;5;124m\"\u001b[39m\u001b[38;5;124mqkv_bias\u001b[39m\u001b[38;5;124m\"\u001b[39m: \u001b[38;5;28;01mFalse\u001b[39;00m\n\u001b[1;32m     16\u001b[0m }\n\u001b[1;32m     17\u001b[0m torch\u001b[38;5;241m.\u001b[39mmanual_seed(\u001b[38;5;241m123\u001b[39m)\n",
      "File \u001b[0;32m~/Projects/NLP/final_gpt.py:402\u001b[0m\n\u001b[1;32m    397\u001b[0m optimizer \u001b[38;5;241m=\u001b[39m torch\u001b[38;5;241m.\u001b[39moptim\u001b[38;5;241m.\u001b[39mAdamW(\n\u001b[1;32m    398\u001b[0m      model\u001b[38;5;241m.\u001b[39mparameters(),           \u001b[38;5;66;03m#1\u001b[39;00m\n\u001b[1;32m    399\u001b[0m     lr\u001b[38;5;241m=\u001b[39m\u001b[38;5;241m0.0004\u001b[39m, weight_decay\u001b[38;5;241m=\u001b[39m\u001b[38;5;241m0.1\u001b[39m\n\u001b[1;32m    400\u001b[0m )\n\u001b[1;32m    401\u001b[0m num_epochs \u001b[38;5;241m=\u001b[39m \u001b[38;5;241m10\u001b[39m\n\u001b[0;32m--> 402\u001b[0m train_losses, val_losses, tokens_seen \u001b[38;5;241m=\u001b[39m train_model_simple(\n\u001b[1;32m    403\u001b[0m     model, train_loader, val_loader, optimizer, device,\n\u001b[1;32m    404\u001b[0m     num_epochs\u001b[38;5;241m=\u001b[39mnum_epochs, eval_freq\u001b[38;5;241m=\u001b[39m\u001b[38;5;241m5\u001b[39m, eval_iter\u001b[38;5;241m=\u001b[39m\u001b[38;5;241m5\u001b[39m,\n\u001b[1;32m    405\u001b[0m     start_context\u001b[38;5;241m=\u001b[39m\u001b[38;5;124m\"\u001b[39m\u001b[38;5;124mEvery effort moves you\u001b[39m\u001b[38;5;124m\"\u001b[39m, tokenizer\u001b[38;5;241m=\u001b[39mtokenizer\n\u001b[1;32m    406\u001b[0m )\n",
      "File \u001b[0;32m~/Projects/NLP/final_gpt.py:384\u001b[0m, in \u001b[0;36mtrain_model_simple\u001b[0;34m(model, train_loader, val_loader, optimizer, device, num_epochs, eval_freq, eval_iter, start_context, tokenizer)\u001b[0m\n\u001b[1;32m    378\u001b[0m             track_tokens_seen\u001b[38;5;241m.\u001b[39mappend(tokens_seen)\n\u001b[1;32m    379\u001b[0m             \u001b[38;5;28mprint\u001b[39m(\u001b[38;5;124mf\u001b[39m\u001b[38;5;124m\"\u001b[39m\u001b[38;5;124mEp \u001b[39m\u001b[38;5;132;01m{\u001b[39;00mepoch\u001b[38;5;241m+\u001b[39m\u001b[38;5;241m1\u001b[39m\u001b[38;5;132;01m}\u001b[39;00m\u001b[38;5;124m (Step \u001b[39m\u001b[38;5;132;01m{\u001b[39;00mglobal_step\u001b[38;5;132;01m:\u001b[39;00m\u001b[38;5;124m06d\u001b[39m\u001b[38;5;132;01m}\u001b[39;00m\u001b[38;5;124m): \u001b[39m\u001b[38;5;124m\"\u001b[39m\n\u001b[1;32m    380\u001b[0m                   \u001b[38;5;124mf\u001b[39m\u001b[38;5;124m\"\u001b[39m\u001b[38;5;124mTrain loss \u001b[39m\u001b[38;5;132;01m{\u001b[39;00mtrain_loss\u001b[38;5;132;01m:\u001b[39;00m\u001b[38;5;124m.3f\u001b[39m\u001b[38;5;132;01m}\u001b[39;00m\u001b[38;5;124m, \u001b[39m\u001b[38;5;124m\"\u001b[39m\n\u001b[1;32m    381\u001b[0m                   \u001b[38;5;124mf\u001b[39m\u001b[38;5;124m\"\u001b[39m\u001b[38;5;124mVal loss \u001b[39m\u001b[38;5;132;01m{\u001b[39;00mval_loss\u001b[38;5;132;01m:\u001b[39;00m\u001b[38;5;124m.3f\u001b[39m\u001b[38;5;132;01m}\u001b[39;00m\u001b[38;5;124m\"\u001b[39m\n\u001b[1;32m    382\u001b[0m             )\n\u001b[0;32m--> 384\u001b[0m     generate_and_print_sample(                      \u001b[38;5;66;03m#7\u001b[39;00m\n\u001b[1;32m    385\u001b[0m         model, tokenizer, device, start_context\n\u001b[1;32m    386\u001b[0m     )\n\u001b[1;32m    387\u001b[0m \u001b[38;5;28;01mreturn\u001b[39;00m train_losses, val_losses, track_tokens_seen\n",
      "File \u001b[0;32m~/Projects/NLP/final_gpt.py:346\u001b[0m, in \u001b[0;36mgenerate_and_print_sample\u001b[0;34m(model, tokenizer, device, start_context)\u001b[0m\n\u001b[1;32m    344\u001b[0m encoded \u001b[38;5;241m=\u001b[39m text_to_token_ids(start_context, tokenizer)\u001b[38;5;241m.\u001b[39mto(device)\n\u001b[1;32m    345\u001b[0m \u001b[38;5;28;01mwith\u001b[39;00m torch\u001b[38;5;241m.\u001b[39mno_grad():\n\u001b[0;32m--> 346\u001b[0m     token_ids \u001b[38;5;241m=\u001b[39m generate_text_simple(\n\u001b[1;32m    347\u001b[0m         model\u001b[38;5;241m=\u001b[39mmodel, idx\u001b[38;5;241m=\u001b[39mencoded,\n\u001b[1;32m    348\u001b[0m         max_new_tokens\u001b[38;5;241m=\u001b[39m\u001b[38;5;241m50\u001b[39m, context_size\u001b[38;5;241m=\u001b[39mcontext_size\n\u001b[1;32m    349\u001b[0m     )\n\u001b[1;32m    350\u001b[0m decoded_text \u001b[38;5;241m=\u001b[39m token_ids_to_text(token_ids, tokenizer)\n\u001b[1;32m    351\u001b[0m \u001b[38;5;28mprint\u001b[39m(decoded_text\u001b[38;5;241m.\u001b[39mreplace(\u001b[38;5;124m\"\u001b[39m\u001b[38;5;130;01m\\n\u001b[39;00m\u001b[38;5;124m\"\u001b[39m, \u001b[38;5;124m\"\u001b[39m\u001b[38;5;124m \u001b[39m\u001b[38;5;124m\"\u001b[39m))      \u001b[38;5;66;03m#1\u001b[39;00m\n",
      "File \u001b[0;32m~/Projects/NLP/final_gpt.py:70\u001b[0m, in \u001b[0;36mgenerate_text_simple\u001b[0;34m(model, idx, max_new_tokens, context_size)\u001b[0m\n\u001b[1;32m     68\u001b[0m idx_cond \u001b[38;5;241m=\u001b[39m idx[:, \u001b[38;5;241m-\u001b[39mcontext_size:]    \u001b[38;5;66;03m#2\u001b[39;00m\n\u001b[1;32m     69\u001b[0m \u001b[38;5;28;01mwith\u001b[39;00m torch\u001b[38;5;241m.\u001b[39mno_grad():\n\u001b[0;32m---> 70\u001b[0m     logits \u001b[38;5;241m=\u001b[39m model(idx_cond)\n\u001b[1;32m     72\u001b[0m logits \u001b[38;5;241m=\u001b[39m logits[:, \u001b[38;5;241m-\u001b[39m\u001b[38;5;241m1\u001b[39m, :]                    \u001b[38;5;66;03m#3\u001b[39;00m\n\u001b[1;32m     73\u001b[0m probas \u001b[38;5;241m=\u001b[39m torch\u001b[38;5;241m.\u001b[39msoftmax(logits, dim\u001b[38;5;241m=\u001b[39m\u001b[38;5;241m-\u001b[39m\u001b[38;5;241m1\u001b[39m)           \u001b[38;5;66;03m#4\u001b[39;00m\n",
      "File \u001b[0;32m~/anaconda3/envs/torch/lib/python3.12/site-packages/torch/nn/modules/module.py:1736\u001b[0m, in \u001b[0;36mModule._wrapped_call_impl\u001b[0;34m(self, *args, **kwargs)\u001b[0m\n\u001b[1;32m   1734\u001b[0m     \u001b[38;5;28;01mreturn\u001b[39;00m \u001b[38;5;28mself\u001b[39m\u001b[38;5;241m.\u001b[39m_compiled_call_impl(\u001b[38;5;241m*\u001b[39margs, \u001b[38;5;241m*\u001b[39m\u001b[38;5;241m*\u001b[39mkwargs)  \u001b[38;5;66;03m# type: ignore[misc]\u001b[39;00m\n\u001b[1;32m   1735\u001b[0m \u001b[38;5;28;01melse\u001b[39;00m:\n\u001b[0;32m-> 1736\u001b[0m     \u001b[38;5;28;01mreturn\u001b[39;00m \u001b[38;5;28mself\u001b[39m\u001b[38;5;241m.\u001b[39m_call_impl(\u001b[38;5;241m*\u001b[39margs, \u001b[38;5;241m*\u001b[39m\u001b[38;5;241m*\u001b[39mkwargs)\n",
      "File \u001b[0;32m~/anaconda3/envs/torch/lib/python3.12/site-packages/torch/nn/modules/module.py:1747\u001b[0m, in \u001b[0;36mModule._call_impl\u001b[0;34m(self, *args, **kwargs)\u001b[0m\n\u001b[1;32m   1742\u001b[0m \u001b[38;5;66;03m# If we don't have any hooks, we want to skip the rest of the logic in\u001b[39;00m\n\u001b[1;32m   1743\u001b[0m \u001b[38;5;66;03m# this function, and just call forward.\u001b[39;00m\n\u001b[1;32m   1744\u001b[0m \u001b[38;5;28;01mif\u001b[39;00m \u001b[38;5;129;01mnot\u001b[39;00m (\u001b[38;5;28mself\u001b[39m\u001b[38;5;241m.\u001b[39m_backward_hooks \u001b[38;5;129;01mor\u001b[39;00m \u001b[38;5;28mself\u001b[39m\u001b[38;5;241m.\u001b[39m_backward_pre_hooks \u001b[38;5;129;01mor\u001b[39;00m \u001b[38;5;28mself\u001b[39m\u001b[38;5;241m.\u001b[39m_forward_hooks \u001b[38;5;129;01mor\u001b[39;00m \u001b[38;5;28mself\u001b[39m\u001b[38;5;241m.\u001b[39m_forward_pre_hooks\n\u001b[1;32m   1745\u001b[0m         \u001b[38;5;129;01mor\u001b[39;00m _global_backward_pre_hooks \u001b[38;5;129;01mor\u001b[39;00m _global_backward_hooks\n\u001b[1;32m   1746\u001b[0m         \u001b[38;5;129;01mor\u001b[39;00m _global_forward_hooks \u001b[38;5;129;01mor\u001b[39;00m _global_forward_pre_hooks):\n\u001b[0;32m-> 1747\u001b[0m     \u001b[38;5;28;01mreturn\u001b[39;00m forward_call(\u001b[38;5;241m*\u001b[39margs, \u001b[38;5;241m*\u001b[39m\u001b[38;5;241m*\u001b[39mkwargs)\n\u001b[1;32m   1749\u001b[0m result \u001b[38;5;241m=\u001b[39m \u001b[38;5;28;01mNone\u001b[39;00m\n\u001b[1;32m   1750\u001b[0m called_always_called_hooks \u001b[38;5;241m=\u001b[39m \u001b[38;5;28mset\u001b[39m()\n",
      "File \u001b[0;32m~/Projects/NLP/final_gpt.py:151\u001b[0m, in \u001b[0;36mGPTModel.forward\u001b[0;34m(self, in_idx)\u001b[0m\n\u001b[1;32m    149\u001b[0m x \u001b[38;5;241m=\u001b[39m tok_embeds \u001b[38;5;241m+\u001b[39m pos_embeds\n\u001b[1;32m    150\u001b[0m x \u001b[38;5;241m=\u001b[39m \u001b[38;5;28mself\u001b[39m\u001b[38;5;241m.\u001b[39mdrop_emb(x)\n\u001b[0;32m--> 151\u001b[0m x \u001b[38;5;241m=\u001b[39m \u001b[38;5;28mself\u001b[39m\u001b[38;5;241m.\u001b[39mtrf_blocks(x)\n\u001b[1;32m    152\u001b[0m x \u001b[38;5;241m=\u001b[39m \u001b[38;5;28mself\u001b[39m\u001b[38;5;241m.\u001b[39mfinal_norm(x)\n\u001b[1;32m    153\u001b[0m logits \u001b[38;5;241m=\u001b[39m \u001b[38;5;28mself\u001b[39m\u001b[38;5;241m.\u001b[39mout_head(x)\n",
      "File \u001b[0;32m~/anaconda3/envs/torch/lib/python3.12/site-packages/torch/nn/modules/module.py:1736\u001b[0m, in \u001b[0;36mModule._wrapped_call_impl\u001b[0;34m(self, *args, **kwargs)\u001b[0m\n\u001b[1;32m   1734\u001b[0m     \u001b[38;5;28;01mreturn\u001b[39;00m \u001b[38;5;28mself\u001b[39m\u001b[38;5;241m.\u001b[39m_compiled_call_impl(\u001b[38;5;241m*\u001b[39margs, \u001b[38;5;241m*\u001b[39m\u001b[38;5;241m*\u001b[39mkwargs)  \u001b[38;5;66;03m# type: ignore[misc]\u001b[39;00m\n\u001b[1;32m   1735\u001b[0m \u001b[38;5;28;01melse\u001b[39;00m:\n\u001b[0;32m-> 1736\u001b[0m     \u001b[38;5;28;01mreturn\u001b[39;00m \u001b[38;5;28mself\u001b[39m\u001b[38;5;241m.\u001b[39m_call_impl(\u001b[38;5;241m*\u001b[39margs, \u001b[38;5;241m*\u001b[39m\u001b[38;5;241m*\u001b[39mkwargs)\n",
      "File \u001b[0;32m~/anaconda3/envs/torch/lib/python3.12/site-packages/torch/nn/modules/module.py:1747\u001b[0m, in \u001b[0;36mModule._call_impl\u001b[0;34m(self, *args, **kwargs)\u001b[0m\n\u001b[1;32m   1742\u001b[0m \u001b[38;5;66;03m# If we don't have any hooks, we want to skip the rest of the logic in\u001b[39;00m\n\u001b[1;32m   1743\u001b[0m \u001b[38;5;66;03m# this function, and just call forward.\u001b[39;00m\n\u001b[1;32m   1744\u001b[0m \u001b[38;5;28;01mif\u001b[39;00m \u001b[38;5;129;01mnot\u001b[39;00m (\u001b[38;5;28mself\u001b[39m\u001b[38;5;241m.\u001b[39m_backward_hooks \u001b[38;5;129;01mor\u001b[39;00m \u001b[38;5;28mself\u001b[39m\u001b[38;5;241m.\u001b[39m_backward_pre_hooks \u001b[38;5;129;01mor\u001b[39;00m \u001b[38;5;28mself\u001b[39m\u001b[38;5;241m.\u001b[39m_forward_hooks \u001b[38;5;129;01mor\u001b[39;00m \u001b[38;5;28mself\u001b[39m\u001b[38;5;241m.\u001b[39m_forward_pre_hooks\n\u001b[1;32m   1745\u001b[0m         \u001b[38;5;129;01mor\u001b[39;00m _global_backward_pre_hooks \u001b[38;5;129;01mor\u001b[39;00m _global_backward_hooks\n\u001b[1;32m   1746\u001b[0m         \u001b[38;5;129;01mor\u001b[39;00m _global_forward_hooks \u001b[38;5;129;01mor\u001b[39;00m _global_forward_pre_hooks):\n\u001b[0;32m-> 1747\u001b[0m     \u001b[38;5;28;01mreturn\u001b[39;00m forward_call(\u001b[38;5;241m*\u001b[39margs, \u001b[38;5;241m*\u001b[39m\u001b[38;5;241m*\u001b[39mkwargs)\n\u001b[1;32m   1749\u001b[0m result \u001b[38;5;241m=\u001b[39m \u001b[38;5;28;01mNone\u001b[39;00m\n\u001b[1;32m   1750\u001b[0m called_always_called_hooks \u001b[38;5;241m=\u001b[39m \u001b[38;5;28mset\u001b[39m()\n",
      "File \u001b[0;32m~/anaconda3/envs/torch/lib/python3.12/site-packages/torch/nn/modules/container.py:250\u001b[0m, in \u001b[0;36mSequential.forward\u001b[0;34m(self, input)\u001b[0m\n\u001b[1;32m    248\u001b[0m \u001b[38;5;28;01mdef\u001b[39;00m \u001b[38;5;21mforward\u001b[39m(\u001b[38;5;28mself\u001b[39m, \u001b[38;5;28minput\u001b[39m):\n\u001b[1;32m    249\u001b[0m     \u001b[38;5;28;01mfor\u001b[39;00m module \u001b[38;5;129;01min\u001b[39;00m \u001b[38;5;28mself\u001b[39m:\n\u001b[0;32m--> 250\u001b[0m         \u001b[38;5;28minput\u001b[39m \u001b[38;5;241m=\u001b[39m module(\u001b[38;5;28minput\u001b[39m)\n\u001b[1;32m    251\u001b[0m     \u001b[38;5;28;01mreturn\u001b[39;00m \u001b[38;5;28minput\u001b[39m\n",
      "File \u001b[0;32m~/anaconda3/envs/torch/lib/python3.12/site-packages/torch/nn/modules/module.py:1736\u001b[0m, in \u001b[0;36mModule._wrapped_call_impl\u001b[0;34m(self, *args, **kwargs)\u001b[0m\n\u001b[1;32m   1734\u001b[0m     \u001b[38;5;28;01mreturn\u001b[39;00m \u001b[38;5;28mself\u001b[39m\u001b[38;5;241m.\u001b[39m_compiled_call_impl(\u001b[38;5;241m*\u001b[39margs, \u001b[38;5;241m*\u001b[39m\u001b[38;5;241m*\u001b[39mkwargs)  \u001b[38;5;66;03m# type: ignore[misc]\u001b[39;00m\n\u001b[1;32m   1735\u001b[0m \u001b[38;5;28;01melse\u001b[39;00m:\n\u001b[0;32m-> 1736\u001b[0m     \u001b[38;5;28;01mreturn\u001b[39;00m \u001b[38;5;28mself\u001b[39m\u001b[38;5;241m.\u001b[39m_call_impl(\u001b[38;5;241m*\u001b[39margs, \u001b[38;5;241m*\u001b[39m\u001b[38;5;241m*\u001b[39mkwargs)\n",
      "File \u001b[0;32m~/anaconda3/envs/torch/lib/python3.12/site-packages/torch/nn/modules/module.py:1747\u001b[0m, in \u001b[0;36mModule._call_impl\u001b[0;34m(self, *args, **kwargs)\u001b[0m\n\u001b[1;32m   1742\u001b[0m \u001b[38;5;66;03m# If we don't have any hooks, we want to skip the rest of the logic in\u001b[39;00m\n\u001b[1;32m   1743\u001b[0m \u001b[38;5;66;03m# this function, and just call forward.\u001b[39;00m\n\u001b[1;32m   1744\u001b[0m \u001b[38;5;28;01mif\u001b[39;00m \u001b[38;5;129;01mnot\u001b[39;00m (\u001b[38;5;28mself\u001b[39m\u001b[38;5;241m.\u001b[39m_backward_hooks \u001b[38;5;129;01mor\u001b[39;00m \u001b[38;5;28mself\u001b[39m\u001b[38;5;241m.\u001b[39m_backward_pre_hooks \u001b[38;5;129;01mor\u001b[39;00m \u001b[38;5;28mself\u001b[39m\u001b[38;5;241m.\u001b[39m_forward_hooks \u001b[38;5;129;01mor\u001b[39;00m \u001b[38;5;28mself\u001b[39m\u001b[38;5;241m.\u001b[39m_forward_pre_hooks\n\u001b[1;32m   1745\u001b[0m         \u001b[38;5;129;01mor\u001b[39;00m _global_backward_pre_hooks \u001b[38;5;129;01mor\u001b[39;00m _global_backward_hooks\n\u001b[1;32m   1746\u001b[0m         \u001b[38;5;129;01mor\u001b[39;00m _global_forward_hooks \u001b[38;5;129;01mor\u001b[39;00m _global_forward_pre_hooks):\n\u001b[0;32m-> 1747\u001b[0m     \u001b[38;5;28;01mreturn\u001b[39;00m forward_call(\u001b[38;5;241m*\u001b[39margs, \u001b[38;5;241m*\u001b[39m\u001b[38;5;241m*\u001b[39mkwargs)\n\u001b[1;32m   1749\u001b[0m result \u001b[38;5;241m=\u001b[39m \u001b[38;5;28;01mNone\u001b[39;00m\n\u001b[1;32m   1750\u001b[0m called_always_called_hooks \u001b[38;5;241m=\u001b[39m \u001b[38;5;28mset\u001b[39m()\n",
      "File \u001b[0;32m~/Projects/NLP/final_gpt.py:100\u001b[0m, in \u001b[0;36mTransformerBlock.forward\u001b[0;34m(self, x)\u001b[0m\n\u001b[1;32m     98\u001b[0m shortcut \u001b[38;5;241m=\u001b[39m x\n\u001b[1;32m     99\u001b[0m x \u001b[38;5;241m=\u001b[39m \u001b[38;5;28mself\u001b[39m\u001b[38;5;241m.\u001b[39mnorm1(x)\n\u001b[0;32m--> 100\u001b[0m x \u001b[38;5;241m=\u001b[39m \u001b[38;5;28mself\u001b[39m\u001b[38;5;241m.\u001b[39matt(x)\n\u001b[1;32m    101\u001b[0m x \u001b[38;5;241m=\u001b[39m \u001b[38;5;28mself\u001b[39m\u001b[38;5;241m.\u001b[39mdrop_shortcut(x)\n\u001b[1;32m    102\u001b[0m x \u001b[38;5;241m=\u001b[39m x \u001b[38;5;241m+\u001b[39m shortcut      \u001b[38;5;66;03m#2\u001b[39;00m\n",
      "File \u001b[0;32m~/anaconda3/envs/torch/lib/python3.12/site-packages/torch/nn/modules/module.py:1736\u001b[0m, in \u001b[0;36mModule._wrapped_call_impl\u001b[0;34m(self, *args, **kwargs)\u001b[0m\n\u001b[1;32m   1734\u001b[0m     \u001b[38;5;28;01mreturn\u001b[39;00m \u001b[38;5;28mself\u001b[39m\u001b[38;5;241m.\u001b[39m_compiled_call_impl(\u001b[38;5;241m*\u001b[39margs, \u001b[38;5;241m*\u001b[39m\u001b[38;5;241m*\u001b[39mkwargs)  \u001b[38;5;66;03m# type: ignore[misc]\u001b[39;00m\n\u001b[1;32m   1735\u001b[0m \u001b[38;5;28;01melse\u001b[39;00m:\n\u001b[0;32m-> 1736\u001b[0m     \u001b[38;5;28;01mreturn\u001b[39;00m \u001b[38;5;28mself\u001b[39m\u001b[38;5;241m.\u001b[39m_call_impl(\u001b[38;5;241m*\u001b[39margs, \u001b[38;5;241m*\u001b[39m\u001b[38;5;241m*\u001b[39mkwargs)\n",
      "File \u001b[0;32m~/anaconda3/envs/torch/lib/python3.12/site-packages/torch/nn/modules/module.py:1747\u001b[0m, in \u001b[0;36mModule._call_impl\u001b[0;34m(self, *args, **kwargs)\u001b[0m\n\u001b[1;32m   1742\u001b[0m \u001b[38;5;66;03m# If we don't have any hooks, we want to skip the rest of the logic in\u001b[39;00m\n\u001b[1;32m   1743\u001b[0m \u001b[38;5;66;03m# this function, and just call forward.\u001b[39;00m\n\u001b[1;32m   1744\u001b[0m \u001b[38;5;28;01mif\u001b[39;00m \u001b[38;5;129;01mnot\u001b[39;00m (\u001b[38;5;28mself\u001b[39m\u001b[38;5;241m.\u001b[39m_backward_hooks \u001b[38;5;129;01mor\u001b[39;00m \u001b[38;5;28mself\u001b[39m\u001b[38;5;241m.\u001b[39m_backward_pre_hooks \u001b[38;5;129;01mor\u001b[39;00m \u001b[38;5;28mself\u001b[39m\u001b[38;5;241m.\u001b[39m_forward_hooks \u001b[38;5;129;01mor\u001b[39;00m \u001b[38;5;28mself\u001b[39m\u001b[38;5;241m.\u001b[39m_forward_pre_hooks\n\u001b[1;32m   1745\u001b[0m         \u001b[38;5;129;01mor\u001b[39;00m _global_backward_pre_hooks \u001b[38;5;129;01mor\u001b[39;00m _global_backward_hooks\n\u001b[1;32m   1746\u001b[0m         \u001b[38;5;129;01mor\u001b[39;00m _global_forward_hooks \u001b[38;5;129;01mor\u001b[39;00m _global_forward_pre_hooks):\n\u001b[0;32m-> 1747\u001b[0m     \u001b[38;5;28;01mreturn\u001b[39;00m forward_call(\u001b[38;5;241m*\u001b[39margs, \u001b[38;5;241m*\u001b[39m\u001b[38;5;241m*\u001b[39mkwargs)\n\u001b[1;32m   1749\u001b[0m result \u001b[38;5;241m=\u001b[39m \u001b[38;5;28;01mNone\u001b[39;00m\n\u001b[1;32m   1750\u001b[0m called_always_called_hooks \u001b[38;5;241m=\u001b[39m \u001b[38;5;28mset\u001b[39m()\n",
      "File \u001b[0;32m~/Projects/NLP/final_gpt.py:28\u001b[0m, in \u001b[0;36mMultiHeadAttention.forward\u001b[0;34m(self, x)\u001b[0m\n\u001b[1;32m     26\u001b[0m \u001b[38;5;28;01mdef\u001b[39;00m \u001b[38;5;21mforward\u001b[39m(\u001b[38;5;28mself\u001b[39m, x):\n\u001b[1;32m     27\u001b[0m     b, num_tokens, d_in \u001b[38;5;241m=\u001b[39m x\u001b[38;5;241m.\u001b[39mshape\n\u001b[0;32m---> 28\u001b[0m     keys \u001b[38;5;241m=\u001b[39m \u001b[38;5;28mself\u001b[39m\u001b[38;5;241m.\u001b[39mW_key(x)         \u001b[38;5;66;03m#3\u001b[39;00m\n\u001b[1;32m     29\u001b[0m     queries \u001b[38;5;241m=\u001b[39m \u001b[38;5;28mself\u001b[39m\u001b[38;5;241m.\u001b[39mW_query(x)    \u001b[38;5;66;03m#3\u001b[39;00m\n\u001b[1;32m     30\u001b[0m     values \u001b[38;5;241m=\u001b[39m \u001b[38;5;28mself\u001b[39m\u001b[38;5;241m.\u001b[39mW_value(x)     \u001b[38;5;66;03m#3\u001b[39;00m\n",
      "File \u001b[0;32m~/anaconda3/envs/torch/lib/python3.12/site-packages/torch/nn/modules/module.py:1736\u001b[0m, in \u001b[0;36mModule._wrapped_call_impl\u001b[0;34m(self, *args, **kwargs)\u001b[0m\n\u001b[1;32m   1734\u001b[0m     \u001b[38;5;28;01mreturn\u001b[39;00m \u001b[38;5;28mself\u001b[39m\u001b[38;5;241m.\u001b[39m_compiled_call_impl(\u001b[38;5;241m*\u001b[39margs, \u001b[38;5;241m*\u001b[39m\u001b[38;5;241m*\u001b[39mkwargs)  \u001b[38;5;66;03m# type: ignore[misc]\u001b[39;00m\n\u001b[1;32m   1735\u001b[0m \u001b[38;5;28;01melse\u001b[39;00m:\n\u001b[0;32m-> 1736\u001b[0m     \u001b[38;5;28;01mreturn\u001b[39;00m \u001b[38;5;28mself\u001b[39m\u001b[38;5;241m.\u001b[39m_call_impl(\u001b[38;5;241m*\u001b[39margs, \u001b[38;5;241m*\u001b[39m\u001b[38;5;241m*\u001b[39mkwargs)\n",
      "File \u001b[0;32m~/anaconda3/envs/torch/lib/python3.12/site-packages/torch/nn/modules/module.py:1747\u001b[0m, in \u001b[0;36mModule._call_impl\u001b[0;34m(self, *args, **kwargs)\u001b[0m\n\u001b[1;32m   1742\u001b[0m \u001b[38;5;66;03m# If we don't have any hooks, we want to skip the rest of the logic in\u001b[39;00m\n\u001b[1;32m   1743\u001b[0m \u001b[38;5;66;03m# this function, and just call forward.\u001b[39;00m\n\u001b[1;32m   1744\u001b[0m \u001b[38;5;28;01mif\u001b[39;00m \u001b[38;5;129;01mnot\u001b[39;00m (\u001b[38;5;28mself\u001b[39m\u001b[38;5;241m.\u001b[39m_backward_hooks \u001b[38;5;129;01mor\u001b[39;00m \u001b[38;5;28mself\u001b[39m\u001b[38;5;241m.\u001b[39m_backward_pre_hooks \u001b[38;5;129;01mor\u001b[39;00m \u001b[38;5;28mself\u001b[39m\u001b[38;5;241m.\u001b[39m_forward_hooks \u001b[38;5;129;01mor\u001b[39;00m \u001b[38;5;28mself\u001b[39m\u001b[38;5;241m.\u001b[39m_forward_pre_hooks\n\u001b[1;32m   1745\u001b[0m         \u001b[38;5;129;01mor\u001b[39;00m _global_backward_pre_hooks \u001b[38;5;129;01mor\u001b[39;00m _global_backward_hooks\n\u001b[1;32m   1746\u001b[0m         \u001b[38;5;129;01mor\u001b[39;00m _global_forward_hooks \u001b[38;5;129;01mor\u001b[39;00m _global_forward_pre_hooks):\n\u001b[0;32m-> 1747\u001b[0m     \u001b[38;5;28;01mreturn\u001b[39;00m forward_call(\u001b[38;5;241m*\u001b[39margs, \u001b[38;5;241m*\u001b[39m\u001b[38;5;241m*\u001b[39mkwargs)\n\u001b[1;32m   1749\u001b[0m result \u001b[38;5;241m=\u001b[39m \u001b[38;5;28;01mNone\u001b[39;00m\n\u001b[1;32m   1750\u001b[0m called_always_called_hooks \u001b[38;5;241m=\u001b[39m \u001b[38;5;28mset\u001b[39m()\n",
      "File \u001b[0;32m~/anaconda3/envs/torch/lib/python3.12/site-packages/torch/nn/modules/linear.py:125\u001b[0m, in \u001b[0;36mLinear.forward\u001b[0;34m(self, input)\u001b[0m\n\u001b[1;32m    124\u001b[0m \u001b[38;5;28;01mdef\u001b[39;00m \u001b[38;5;21mforward\u001b[39m(\u001b[38;5;28mself\u001b[39m, \u001b[38;5;28minput\u001b[39m: Tensor) \u001b[38;5;241m-\u001b[39m\u001b[38;5;241m>\u001b[39m Tensor:\n\u001b[0;32m--> 125\u001b[0m     \u001b[38;5;28;01mreturn\u001b[39;00m F\u001b[38;5;241m.\u001b[39mlinear(\u001b[38;5;28minput\u001b[39m, \u001b[38;5;28mself\u001b[39m\u001b[38;5;241m.\u001b[39mweight, \u001b[38;5;28mself\u001b[39m\u001b[38;5;241m.\u001b[39mbias)\n",
      "\u001b[0;31mKeyboardInterrupt\u001b[0m: "
     ]
    }
   ],
   "source": [
    "import torch\n",
    "with torch.no_grad():\n",
    "    torch.cuda.empty_cache()\n",
    "\n",
    "\n",
    "from final_gpt import GPTModel\n",
    "\n",
    "GPT_CONFIG_124M = {\n",
    "    \"vocab_size\": 50257,\n",
    "    \"context_length\": 4,    #1\n",
    "    \"emb_dim\": 768,\n",
    "    \"n_heads\": 12,\n",
    "    \"n_layers\": 12, \n",
    "    \"drop_rate\": 0.1,       #2\n",
    "    \"qkv_bias\": False\n",
    "}\n",
    "torch.manual_seed(123)\n",
    "model = GPTModel(GPT_CONFIG_124M)\n",
    "model.eval()"
   ]
  },
  {
   "cell_type": "markdown",
   "metadata": {},
   "source": [
    "Utility functions to convert text to tokens and back"
   ]
  },
  {
   "cell_type": "code",
   "execution_count": 5,
   "metadata": {},
   "outputs": [
    {
     "name": "stdout",
     "output_type": "stream",
     "text": [
      "Output text:\n",
      " Every effort moves you system constructor throwbanrestrictedbow dossierstruction Copenhagen URL\n"
     ]
    }
   ],
   "source": [
    "import tiktoken\n",
    "\n",
    "from final_gpt import generate_text_simple\n",
    "\n",
    "def text_to_token_ids(text, tokenizer):\n",
    "    encoded = tokenizer.encode(text, allowed_special={'<|endoftext|>'})\n",
    "    encoded_tensor = torch.tensor(encoded).unsqueeze(0)    #1\n",
    "    return encoded_tensor\n",
    "\n",
    "def token_ids_to_text(token_ids, tokenizer):\n",
    "    flat = token_ids.squeeze(0)                #2\n",
    "    return tokenizer.decode(flat.tolist())\n",
    "\n",
    "start_context = \"Every effort moves you\"\n",
    "tokenizer = tiktoken.get_encoding(\"gpt2\")\n",
    "\n",
    "token_ids = generate_text_simple(\n",
    "    model=model,\n",
    "    idx=text_to_token_ids(start_context, tokenizer),\n",
    "    max_new_tokens=10,\n",
    "    context_size=GPT_CONFIG_124M[\"context_length\"]\n",
    ")\n",
    "print(\"Output text:\\n\", token_ids_to_text(token_ids, tokenizer))"
   ]
  },
  {
   "cell_type": "markdown",
   "metadata": {},
   "source": [
    "In order to evaluate model performance, we need to compute the perplexity of the model on a dataset."
   ]
  },
  {
   "cell_type": "markdown",
   "metadata": {},
   "source": [
    "### Text Generation"
   ]
  },
  {
   "cell_type": "code",
   "execution_count": 6,
   "metadata": {},
   "outputs": [],
   "source": [
    "inputs = torch.tensor([[16833, 3626, 6100],   # [\"every effort moves\",\n",
    "                       [40,    1107, 588]])   #  \"I really like\"]"
   ]
  },
  {
   "cell_type": "code",
   "execution_count": 7,
   "metadata": {},
   "outputs": [],
   "source": [
    "targets = torch.tensor([[3626, 6100, 345  ],  # [\" effort moves you\",\n",
    "                        [1107, 588, 11311]])  #  \" really like chocolate\"]"
   ]
  },
  {
   "cell_type": "code",
   "execution_count": 8,
   "metadata": {},
   "outputs": [
    {
     "name": "stdout",
     "output_type": "stream",
     "text": [
      "torch.Size([2, 3, 50257])\n"
     ]
    }
   ],
   "source": [
    "with torch.no_grad():     #1\n",
    "    logits = model(inputs)\n",
    "probas = torch.softmax(logits, dim=-1)     #2\n",
    "print(probas.shape)"
   ]
  },
  {
   "cell_type": "code",
   "execution_count": 9,
   "metadata": {},
   "outputs": [
    {
     "name": "stdout",
     "output_type": "stream",
     "text": [
      "Token IDs:\n",
      " tensor([[[45909],\n",
      "         [44465],\n",
      "         [ 8693]],\n",
      "\n",
      "        [[45076],\n",
      "         [24268],\n",
      "         [37081]]])\n"
     ]
    }
   ],
   "source": [
    "token_ids = torch.argmax(probas, dim=-1, keepdim=True)\n",
    "print(\"Token IDs:\\n\", token_ids)"
   ]
  },
  {
   "cell_type": "code",
   "execution_count": 10,
   "metadata": {},
   "outputs": [
    {
     "name": "stdout",
     "output_type": "stream",
     "text": [
      "Targets batch 1:  effort moves you\n",
      "Outputs batch 1:  HIM535 Bowl\n"
     ]
    }
   ],
   "source": [
    "print(f\"Targets batch 1: {token_ids_to_text(targets[0], tokenizer)}\")\n",
    "print(f\"Outputs batch 1:\"\n",
    "      f\" {token_ids_to_text(token_ids[0].flatten(), tokenizer)}\")"
   ]
  },
  {
   "cell_type": "markdown",
   "metadata": {},
   "source": [
    "### Text Evaluation"
   ]
  },
  {
   "cell_type": "markdown",
   "metadata": {},
   "source": [
    "Let's see initial softmax probability scores for the target tokens:"
   ]
  },
  {
   "cell_type": "code",
   "execution_count": 11,
   "metadata": {},
   "outputs": [
    {
     "name": "stdout",
     "output_type": "stream",
     "text": [
      "Text 1: tensor([1.8156e-05, 2.0161e-05, 1.6834e-05])\n",
      "Text 2: tensor([1.2397e-05, 2.2042e-05, 1.1297e-05])\n"
     ]
    }
   ],
   "source": [
    "text_idx = 0\n",
    "target_probas_1 = probas[text_idx, [0, 1, 2], targets[text_idx]]\n",
    "print(\"Text 1:\", target_probas_1)\n",
    "\n",
    "text_idx = 1\n",
    "target_probas_2 = probas[text_idx, [0, 1, 2], targets[text_idx]]\n",
    "print(\"Text 2:\", target_probas_2)"
   ]
  },
  {
   "cell_type": "markdown",
   "metadata": {},
   "source": [
    "We want to maximize the probability of the correct target token and punish the model for predicting the wrong token."
   ]
  },
  {
   "cell_type": "code",
   "execution_count": 12,
   "metadata": {},
   "outputs": [
    {
     "name": "stdout",
     "output_type": "stream",
     "text": [
      "tensor([-10.9165, -10.8118, -10.9921, -11.2980, -10.7225, -11.3910])\n"
     ]
    }
   ],
   "source": [
    "log_probas = torch.log(torch.cat((target_probas_1, target_probas_2)))\n",
    "print(log_probas)"
   ]
  },
  {
   "cell_type": "code",
   "execution_count": 13,
   "metadata": {},
   "outputs": [
    {
     "name": "stdout",
     "output_type": "stream",
     "text": [
      "tensor(-11.0220)\n"
     ]
    }
   ],
   "source": [
    "avg_log_probas = torch.mean(log_probas)\n",
    "print(avg_log_probas)"
   ]
  },
  {
   "cell_type": "code",
   "execution_count": 14,
   "metadata": {},
   "outputs": [
    {
     "name": "stdout",
     "output_type": "stream",
     "text": [
      "tensor(11.0220)\n"
     ]
    }
   ],
   "source": [
    "neg_avg_log_probas = avg_log_probas * -1\n",
    "print(neg_avg_log_probas)"
   ]
  },
  {
   "cell_type": "markdown",
   "metadata": {},
   "source": [
    "This is what we want to minimize in other words cross-entropy loss.\n",
    "\n",
    "Cross-entropy loss measures the distance between the predicted probability distribution and the true probability distribution.\n",
    "\n",
    "Loss becomes zero when the predicted probability distribution is exactly the same as the true probability distribution.\n",
    "\n",
    "\n"
   ]
  },
  {
   "cell_type": "code",
   "execution_count": 15,
   "metadata": {},
   "outputs": [
    {
     "name": "stdout",
     "output_type": "stream",
     "text": [
      "Flattened logits: torch.Size([6, 50257])\n",
      "Flattened targets: torch.Size([6])\n"
     ]
    }
   ],
   "source": [
    "logits_flat = logits.flatten(0, 1)\n",
    "targets_flat = targets.flatten()\n",
    "print(\"Flattened logits:\", logits_flat.shape)\n",
    "print(\"Flattened targets:\", targets_flat.shape)"
   ]
  },
  {
   "cell_type": "markdown",
   "metadata": {},
   "source": [
    "Flattening it is the same as combining batch and sequence dimensions together like  they were one long sequence."
   ]
  },
  {
   "cell_type": "code",
   "execution_count": 16,
   "metadata": {},
   "outputs": [
    {
     "name": "stdout",
     "output_type": "stream",
     "text": [
      "tensor(11.0220)\n"
     ]
    }
   ],
   "source": [
    "loss = torch.nn.functional.cross_entropy(logits_flat, targets_flat)\n",
    "print(loss)"
   ]
  },
  {
   "cell_type": "markdown",
   "metadata": {},
   "source": [
    "### Training and validation "
   ]
  },
  {
   "cell_type": "code",
   "execution_count": 17,
   "metadata": {},
   "outputs": [],
   "source": [
    "file_path = \"the-verdict.txt\"\n",
    "with open(file_path, \"r\", encoding=\"utf-8\") as file:\n",
    "    text_data = file.read()"
   ]
  },
  {
   "cell_type": "code",
   "execution_count": 18,
   "metadata": {},
   "outputs": [
    {
     "name": "stdout",
     "output_type": "stream",
     "text": [
      "Characters: 20479\n",
      "Tokens: 5145\n"
     ]
    }
   ],
   "source": [
    "total_characters = len(text_data)\n",
    "total_tokens = len(tokenizer.encode(text_data))\n",
    "print(\"Characters:\", total_characters)\n",
    "print(\"Tokens:\", total_tokens)"
   ]
  },
  {
   "cell_type": "code",
   "execution_count": 19,
   "metadata": {},
   "outputs": [],
   "source": [
    "train_ratio = 0.90\n",
    "split_idx = int(train_ratio * len(text_data))\n",
    "train_data = text_data[:split_idx]\n",
    "val_data = text_data[split_idx:]"
   ]
  },
  {
   "cell_type": "code",
   "execution_count": 20,
   "metadata": {},
   "outputs": [],
   "source": [
    "import torch\n",
    "from torch.utils.data import Dataset, DataLoader\n",
    "class GPTDatasetV1(Dataset):\n",
    "    def __init__(self, txt, tokenizer, max_length, stride):\n",
    "        self.input_ids = []\n",
    "        self.target_ids = []\n",
    "\n",
    "        token_ids = tokenizer.encode(txt)    #1\n",
    "\n",
    "        for i in range(0, len(token_ids) - max_length, stride): \n",
    "            # shifting the y by 1 to get desired tokens for each step.\n",
    "            # max length is the context size.\n",
    "            input_chunk = token_ids[i:i + max_length]\n",
    "            target_chunk = token_ids[i + 1: i + max_length + 1]\n",
    "            self.input_ids.append(torch.tensor(input_chunk))\n",
    "            self.target_ids.append(torch.tensor(target_chunk))\n",
    "\n",
    "    def __len__(self):    #3\n",
    "        return len(self.input_ids)\n",
    "\n",
    "    def __getitem__(self, idx):         #4\n",
    "        return self.input_ids[idx], self.target_ids[idx]\n",
    "    \n",
    "\n",
    "\n",
    "\n",
    "    \n",
    "\n",
    "def create_dataloader_v1(txt, batch_size=4, max_length=256,\n",
    "                         stride=128, shuffle=True, drop_last=True,\n",
    "                         num_workers=0):\n",
    "        tokenizer = tiktoken.get_encoding(\"gpt2\")                         #1\n",
    "        dataset = GPTDatasetV1(txt, tokenizer, max_length, stride)   #2\n",
    "        dataloader = DataLoader(\n",
    "        dataset,\n",
    "        batch_size=batch_size,\n",
    "        shuffle=shuffle,\n",
    "        drop_last=drop_last,     #3\n",
    "        num_workers=num_workers     #4\n",
    "    )\n",
    "        return dataloader        \n",
    "\n",
    "\n",
    "torch.manual_seed(123)\n",
    "\n",
    "train_loader = create_dataloader_v1(\n",
    "    train_data,\n",
    "    batch_size=2,\n",
    "    max_length=GPT_CONFIG_124M[\"context_length\"],\n",
    "    stride=GPT_CONFIG_124M[\"context_length\"],\n",
    "    drop_last=True,\n",
    "    shuffle=True,\n",
    "    num_workers=0\n",
    ")\n",
    "val_loader = create_dataloader_v1(\n",
    "    val_data,\n",
    "    batch_size=2,\n",
    "    max_length=GPT_CONFIG_124M[\"context_length\"],\n",
    "    stride=GPT_CONFIG_124M[\"context_length\"],\n",
    "    drop_last=False,\n",
    "    shuffle=False,\n",
    "    num_workers=0\n",
    ")"
   ]
  },
  {
   "cell_type": "code",
   "execution_count": 21,
   "metadata": {},
   "outputs": [
    {
     "name": "stdout",
     "output_type": "stream",
     "text": [
      "Train loader:\n",
      "torch.Size([2, 4]) torch.Size([2, 4])\n",
      "torch.Size([2, 4]) torch.Size([2, 4])\n",
      "torch.Size([2, 4]) torch.Size([2, 4])\n",
      "torch.Size([2, 4]) torch.Size([2, 4])\n",
      "torch.Size([2, 4]) torch.Size([2, 4])\n",
      "torch.Size([2, 4]) torch.Size([2, 4])\n",
      "torch.Size([2, 4]) torch.Size([2, 4])\n",
      "torch.Size([2, 4]) torch.Size([2, 4])\n",
      "torch.Size([2, 4]) torch.Size([2, 4])\n",
      "torch.Size([2, 4]) torch.Size([2, 4])\n",
      "torch.Size([2, 4]) torch.Size([2, 4])\n",
      "torch.Size([2, 4]) torch.Size([2, 4])\n",
      "torch.Size([2, 4]) torch.Size([2, 4])\n",
      "torch.Size([2, 4]) torch.Size([2, 4])\n",
      "torch.Size([2, 4]) torch.Size([2, 4])\n",
      "torch.Size([2, 4]) torch.Size([2, 4])\n",
      "torch.Size([2, 4]) torch.Size([2, 4])\n",
      "torch.Size([2, 4]) torch.Size([2, 4])\n",
      "torch.Size([2, 4]) torch.Size([2, 4])\n",
      "torch.Size([2, 4]) torch.Size([2, 4])\n",
      "torch.Size([2, 4]) torch.Size([2, 4])\n",
      "torch.Size([2, 4]) torch.Size([2, 4])\n",
      "torch.Size([2, 4]) torch.Size([2, 4])\n",
      "torch.Size([2, 4]) torch.Size([2, 4])\n",
      "torch.Size([2, 4]) torch.Size([2, 4])\n",
      "torch.Size([2, 4]) torch.Size([2, 4])\n",
      "torch.Size([2, 4]) torch.Size([2, 4])\n",
      "torch.Size([2, 4]) torch.Size([2, 4])\n",
      "torch.Size([2, 4]) torch.Size([2, 4])\n",
      "torch.Size([2, 4]) torch.Size([2, 4])\n",
      "torch.Size([2, 4]) torch.Size([2, 4])\n",
      "torch.Size([2, 4]) torch.Size([2, 4])\n",
      "torch.Size([2, 4]) torch.Size([2, 4])\n",
      "torch.Size([2, 4]) torch.Size([2, 4])\n",
      "torch.Size([2, 4]) torch.Size([2, 4])\n",
      "torch.Size([2, 4]) torch.Size([2, 4])\n",
      "torch.Size([2, 4]) torch.Size([2, 4])\n",
      "torch.Size([2, 4]) torch.Size([2, 4])\n",
      "torch.Size([2, 4]) torch.Size([2, 4])\n",
      "torch.Size([2, 4]) torch.Size([2, 4])\n",
      "torch.Size([2, 4]) torch.Size([2, 4])\n",
      "torch.Size([2, 4]) torch.Size([2, 4])\n",
      "torch.Size([2, 4]) torch.Size([2, 4])\n",
      "torch.Size([2, 4]) torch.Size([2, 4])\n",
      "torch.Size([2, 4]) torch.Size([2, 4])\n",
      "torch.Size([2, 4]) torch.Size([2, 4])\n",
      "torch.Size([2, 4]) torch.Size([2, 4])\n",
      "torch.Size([2, 4]) torch.Size([2, 4])\n",
      "torch.Size([2, 4]) torch.Size([2, 4])\n",
      "torch.Size([2, 4]) torch.Size([2, 4])\n",
      "torch.Size([2, 4]) torch.Size([2, 4])\n",
      "torch.Size([2, 4]) torch.Size([2, 4])\n",
      "torch.Size([2, 4]) torch.Size([2, 4])\n",
      "torch.Size([2, 4]) torch.Size([2, 4])\n",
      "torch.Size([2, 4]) torch.Size([2, 4])\n",
      "torch.Size([2, 4]) torch.Size([2, 4])\n",
      "torch.Size([2, 4]) torch.Size([2, 4])\n",
      "torch.Size([2, 4]) torch.Size([2, 4])\n",
      "torch.Size([2, 4]) torch.Size([2, 4])\n",
      "torch.Size([2, 4]) torch.Size([2, 4])\n",
      "torch.Size([2, 4]) torch.Size([2, 4])\n",
      "torch.Size([2, 4]) torch.Size([2, 4])\n",
      "torch.Size([2, 4]) torch.Size([2, 4])\n",
      "torch.Size([2, 4]) torch.Size([2, 4])\n",
      "torch.Size([2, 4]) torch.Size([2, 4])\n",
      "torch.Size([2, 4]) torch.Size([2, 4])\n",
      "torch.Size([2, 4]) torch.Size([2, 4])\n",
      "torch.Size([2, 4]) torch.Size([2, 4])\n",
      "torch.Size([2, 4]) torch.Size([2, 4])\n",
      "torch.Size([2, 4]) torch.Size([2, 4])\n",
      "torch.Size([2, 4]) torch.Size([2, 4])\n",
      "torch.Size([2, 4]) torch.Size([2, 4])\n",
      "torch.Size([2, 4]) torch.Size([2, 4])\n",
      "torch.Size([2, 4]) torch.Size([2, 4])\n",
      "torch.Size([2, 4]) torch.Size([2, 4])\n",
      "torch.Size([2, 4]) torch.Size([2, 4])\n",
      "torch.Size([2, 4]) torch.Size([2, 4])\n",
      "torch.Size([2, 4]) torch.Size([2, 4])\n",
      "torch.Size([2, 4]) torch.Size([2, 4])\n",
      "torch.Size([2, 4]) torch.Size([2, 4])\n",
      "torch.Size([2, 4]) torch.Size([2, 4])\n",
      "torch.Size([2, 4]) torch.Size([2, 4])\n",
      "torch.Size([2, 4]) torch.Size([2, 4])\n",
      "torch.Size([2, 4]) torch.Size([2, 4])\n",
      "torch.Size([2, 4]) torch.Size([2, 4])\n",
      "torch.Size([2, 4]) torch.Size([2, 4])\n",
      "torch.Size([2, 4]) torch.Size([2, 4])\n",
      "torch.Size([2, 4]) torch.Size([2, 4])\n",
      "torch.Size([2, 4]) torch.Size([2, 4])\n",
      "torch.Size([2, 4]) torch.Size([2, 4])\n",
      "torch.Size([2, 4]) torch.Size([2, 4])\n",
      "torch.Size([2, 4]) torch.Size([2, 4])\n",
      "torch.Size([2, 4]) torch.Size([2, 4])\n",
      "torch.Size([2, 4]) torch.Size([2, 4])\n",
      "torch.Size([2, 4]) torch.Size([2, 4])\n",
      "torch.Size([2, 4]) torch.Size([2, 4])\n",
      "torch.Size([2, 4]) torch.Size([2, 4])\n",
      "torch.Size([2, 4]) torch.Size([2, 4])\n",
      "torch.Size([2, 4]) torch.Size([2, 4])\n",
      "torch.Size([2, 4]) torch.Size([2, 4])\n",
      "torch.Size([2, 4]) torch.Size([2, 4])\n",
      "torch.Size([2, 4]) torch.Size([2, 4])\n",
      "torch.Size([2, 4]) torch.Size([2, 4])\n",
      "torch.Size([2, 4]) torch.Size([2, 4])\n",
      "torch.Size([2, 4]) torch.Size([2, 4])\n",
      "torch.Size([2, 4]) torch.Size([2, 4])\n",
      "torch.Size([2, 4]) torch.Size([2, 4])\n",
      "torch.Size([2, 4]) torch.Size([2, 4])\n",
      "torch.Size([2, 4]) torch.Size([2, 4])\n",
      "torch.Size([2, 4]) torch.Size([2, 4])\n",
      "torch.Size([2, 4]) torch.Size([2, 4])\n",
      "torch.Size([2, 4]) torch.Size([2, 4])\n",
      "torch.Size([2, 4]) torch.Size([2, 4])\n",
      "torch.Size([2, 4]) torch.Size([2, 4])\n",
      "torch.Size([2, 4]) torch.Size([2, 4])\n",
      "torch.Size([2, 4]) torch.Size([2, 4])\n",
      "torch.Size([2, 4]) torch.Size([2, 4])\n",
      "torch.Size([2, 4]) torch.Size([2, 4])\n",
      "torch.Size([2, 4]) torch.Size([2, 4])\n",
      "torch.Size([2, 4]) torch.Size([2, 4])\n",
      "torch.Size([2, 4]) torch.Size([2, 4])\n",
      "torch.Size([2, 4]) torch.Size([2, 4])\n",
      "torch.Size([2, 4]) torch.Size([2, 4])\n",
      "torch.Size([2, 4]) torch.Size([2, 4])\n",
      "torch.Size([2, 4]) torch.Size([2, 4])\n",
      "torch.Size([2, 4]) torch.Size([2, 4])\n",
      "torch.Size([2, 4]) torch.Size([2, 4])\n",
      "torch.Size([2, 4]) torch.Size([2, 4])\n",
      "torch.Size([2, 4]) torch.Size([2, 4])\n",
      "torch.Size([2, 4]) torch.Size([2, 4])\n",
      "torch.Size([2, 4]) torch.Size([2, 4])\n",
      "torch.Size([2, 4]) torch.Size([2, 4])\n",
      "torch.Size([2, 4]) torch.Size([2, 4])\n",
      "torch.Size([2, 4]) torch.Size([2, 4])\n",
      "torch.Size([2, 4]) torch.Size([2, 4])\n",
      "torch.Size([2, 4]) torch.Size([2, 4])\n",
      "torch.Size([2, 4]) torch.Size([2, 4])\n",
      "torch.Size([2, 4]) torch.Size([2, 4])\n",
      "torch.Size([2, 4]) torch.Size([2, 4])\n",
      "torch.Size([2, 4]) torch.Size([2, 4])\n",
      "torch.Size([2, 4]) torch.Size([2, 4])\n",
      "torch.Size([2, 4]) torch.Size([2, 4])\n",
      "torch.Size([2, 4]) torch.Size([2, 4])\n",
      "torch.Size([2, 4]) torch.Size([2, 4])\n",
      "torch.Size([2, 4]) torch.Size([2, 4])\n",
      "torch.Size([2, 4]) torch.Size([2, 4])\n",
      "torch.Size([2, 4]) torch.Size([2, 4])\n",
      "torch.Size([2, 4]) torch.Size([2, 4])\n",
      "torch.Size([2, 4]) torch.Size([2, 4])\n",
      "torch.Size([2, 4]) torch.Size([2, 4])\n",
      "torch.Size([2, 4]) torch.Size([2, 4])\n",
      "torch.Size([2, 4]) torch.Size([2, 4])\n",
      "torch.Size([2, 4]) torch.Size([2, 4])\n",
      "torch.Size([2, 4]) torch.Size([2, 4])\n",
      "torch.Size([2, 4]) torch.Size([2, 4])\n",
      "torch.Size([2, 4]) torch.Size([2, 4])\n",
      "torch.Size([2, 4]) torch.Size([2, 4])\n",
      "torch.Size([2, 4]) torch.Size([2, 4])\n",
      "torch.Size([2, 4]) torch.Size([2, 4])\n",
      "torch.Size([2, 4]) torch.Size([2, 4])\n",
      "torch.Size([2, 4]) torch.Size([2, 4])\n",
      "torch.Size([2, 4]) torch.Size([2, 4])\n",
      "torch.Size([2, 4]) torch.Size([2, 4])\n",
      "torch.Size([2, 4]) torch.Size([2, 4])\n",
      "torch.Size([2, 4]) torch.Size([2, 4])\n",
      "torch.Size([2, 4]) torch.Size([2, 4])\n",
      "torch.Size([2, 4]) torch.Size([2, 4])\n",
      "torch.Size([2, 4]) torch.Size([2, 4])\n",
      "torch.Size([2, 4]) torch.Size([2, 4])\n",
      "torch.Size([2, 4]) torch.Size([2, 4])\n",
      "torch.Size([2, 4]) torch.Size([2, 4])\n",
      "torch.Size([2, 4]) torch.Size([2, 4])\n",
      "torch.Size([2, 4]) torch.Size([2, 4])\n",
      "torch.Size([2, 4]) torch.Size([2, 4])\n",
      "torch.Size([2, 4]) torch.Size([2, 4])\n",
      "torch.Size([2, 4]) torch.Size([2, 4])\n",
      "torch.Size([2, 4]) torch.Size([2, 4])\n",
      "torch.Size([2, 4]) torch.Size([2, 4])\n",
      "torch.Size([2, 4]) torch.Size([2, 4])\n",
      "torch.Size([2, 4]) torch.Size([2, 4])\n",
      "torch.Size([2, 4]) torch.Size([2, 4])\n",
      "torch.Size([2, 4]) torch.Size([2, 4])\n",
      "torch.Size([2, 4]) torch.Size([2, 4])\n",
      "torch.Size([2, 4]) torch.Size([2, 4])\n",
      "torch.Size([2, 4]) torch.Size([2, 4])\n",
      "torch.Size([2, 4]) torch.Size([2, 4])\n",
      "torch.Size([2, 4]) torch.Size([2, 4])\n",
      "torch.Size([2, 4]) torch.Size([2, 4])\n",
      "torch.Size([2, 4]) torch.Size([2, 4])\n",
      "torch.Size([2, 4]) torch.Size([2, 4])\n",
      "torch.Size([2, 4]) torch.Size([2, 4])\n",
      "torch.Size([2, 4]) torch.Size([2, 4])\n",
      "torch.Size([2, 4]) torch.Size([2, 4])\n",
      "torch.Size([2, 4]) torch.Size([2, 4])\n",
      "torch.Size([2, 4]) torch.Size([2, 4])\n",
      "torch.Size([2, 4]) torch.Size([2, 4])\n",
      "torch.Size([2, 4]) torch.Size([2, 4])\n",
      "torch.Size([2, 4]) torch.Size([2, 4])\n",
      "torch.Size([2, 4]) torch.Size([2, 4])\n",
      "torch.Size([2, 4]) torch.Size([2, 4])\n",
      "torch.Size([2, 4]) torch.Size([2, 4])\n",
      "torch.Size([2, 4]) torch.Size([2, 4])\n",
      "torch.Size([2, 4]) torch.Size([2, 4])\n",
      "torch.Size([2, 4]) torch.Size([2, 4])\n",
      "torch.Size([2, 4]) torch.Size([2, 4])\n",
      "torch.Size([2, 4]) torch.Size([2, 4])\n",
      "torch.Size([2, 4]) torch.Size([2, 4])\n",
      "torch.Size([2, 4]) torch.Size([2, 4])\n",
      "torch.Size([2, 4]) torch.Size([2, 4])\n",
      "torch.Size([2, 4]) torch.Size([2, 4])\n",
      "torch.Size([2, 4]) torch.Size([2, 4])\n",
      "torch.Size([2, 4]) torch.Size([2, 4])\n",
      "torch.Size([2, 4]) torch.Size([2, 4])\n",
      "torch.Size([2, 4]) torch.Size([2, 4])\n",
      "torch.Size([2, 4]) torch.Size([2, 4])\n",
      "torch.Size([2, 4]) torch.Size([2, 4])\n",
      "torch.Size([2, 4]) torch.Size([2, 4])\n",
      "torch.Size([2, 4]) torch.Size([2, 4])\n",
      "torch.Size([2, 4]) torch.Size([2, 4])\n",
      "torch.Size([2, 4]) torch.Size([2, 4])\n",
      "torch.Size([2, 4]) torch.Size([2, 4])\n",
      "torch.Size([2, 4]) torch.Size([2, 4])\n",
      "torch.Size([2, 4]) torch.Size([2, 4])\n",
      "torch.Size([2, 4]) torch.Size([2, 4])\n",
      "torch.Size([2, 4]) torch.Size([2, 4])\n",
      "torch.Size([2, 4]) torch.Size([2, 4])\n",
      "torch.Size([2, 4]) torch.Size([2, 4])\n",
      "torch.Size([2, 4]) torch.Size([2, 4])\n",
      "torch.Size([2, 4]) torch.Size([2, 4])\n",
      "torch.Size([2, 4]) torch.Size([2, 4])\n",
      "torch.Size([2, 4]) torch.Size([2, 4])\n",
      "torch.Size([2, 4]) torch.Size([2, 4])\n",
      "torch.Size([2, 4]) torch.Size([2, 4])\n",
      "torch.Size([2, 4]) torch.Size([2, 4])\n",
      "torch.Size([2, 4]) torch.Size([2, 4])\n",
      "torch.Size([2, 4]) torch.Size([2, 4])\n",
      "torch.Size([2, 4]) torch.Size([2, 4])\n",
      "torch.Size([2, 4]) torch.Size([2, 4])\n",
      "torch.Size([2, 4]) torch.Size([2, 4])\n",
      "torch.Size([2, 4]) torch.Size([2, 4])\n",
      "torch.Size([2, 4]) torch.Size([2, 4])\n",
      "torch.Size([2, 4]) torch.Size([2, 4])\n",
      "torch.Size([2, 4]) torch.Size([2, 4])\n",
      "torch.Size([2, 4]) torch.Size([2, 4])\n",
      "torch.Size([2, 4]) torch.Size([2, 4])\n",
      "torch.Size([2, 4]) torch.Size([2, 4])\n",
      "torch.Size([2, 4]) torch.Size([2, 4])\n",
      "torch.Size([2, 4]) torch.Size([2, 4])\n",
      "torch.Size([2, 4]) torch.Size([2, 4])\n",
      "torch.Size([2, 4]) torch.Size([2, 4])\n",
      "torch.Size([2, 4]) torch.Size([2, 4])\n",
      "torch.Size([2, 4]) torch.Size([2, 4])\n",
      "torch.Size([2, 4]) torch.Size([2, 4])\n",
      "torch.Size([2, 4]) torch.Size([2, 4])\n",
      "torch.Size([2, 4]) torch.Size([2, 4])\n",
      "torch.Size([2, 4]) torch.Size([2, 4])\n",
      "torch.Size([2, 4]) torch.Size([2, 4])\n",
      "torch.Size([2, 4]) torch.Size([2, 4])\n",
      "torch.Size([2, 4]) torch.Size([2, 4])\n",
      "torch.Size([2, 4]) torch.Size([2, 4])\n",
      "torch.Size([2, 4]) torch.Size([2, 4])\n",
      "torch.Size([2, 4]) torch.Size([2, 4])\n",
      "torch.Size([2, 4]) torch.Size([2, 4])\n",
      "torch.Size([2, 4]) torch.Size([2, 4])\n",
      "torch.Size([2, 4]) torch.Size([2, 4])\n",
      "torch.Size([2, 4]) torch.Size([2, 4])\n",
      "torch.Size([2, 4]) torch.Size([2, 4])\n",
      "torch.Size([2, 4]) torch.Size([2, 4])\n",
      "torch.Size([2, 4]) torch.Size([2, 4])\n",
      "torch.Size([2, 4]) torch.Size([2, 4])\n",
      "torch.Size([2, 4]) torch.Size([2, 4])\n",
      "torch.Size([2, 4]) torch.Size([2, 4])\n",
      "torch.Size([2, 4]) torch.Size([2, 4])\n",
      "torch.Size([2, 4]) torch.Size([2, 4])\n",
      "torch.Size([2, 4]) torch.Size([2, 4])\n",
      "torch.Size([2, 4]) torch.Size([2, 4])\n",
      "torch.Size([2, 4]) torch.Size([2, 4])\n",
      "torch.Size([2, 4]) torch.Size([2, 4])\n",
      "torch.Size([2, 4]) torch.Size([2, 4])\n",
      "torch.Size([2, 4]) torch.Size([2, 4])\n",
      "torch.Size([2, 4]) torch.Size([2, 4])\n",
      "torch.Size([2, 4]) torch.Size([2, 4])\n",
      "torch.Size([2, 4]) torch.Size([2, 4])\n",
      "torch.Size([2, 4]) torch.Size([2, 4])\n",
      "torch.Size([2, 4]) torch.Size([2, 4])\n",
      "torch.Size([2, 4]) torch.Size([2, 4])\n",
      "torch.Size([2, 4]) torch.Size([2, 4])\n",
      "torch.Size([2, 4]) torch.Size([2, 4])\n",
      "torch.Size([2, 4]) torch.Size([2, 4])\n",
      "torch.Size([2, 4]) torch.Size([2, 4])\n",
      "torch.Size([2, 4]) torch.Size([2, 4])\n",
      "torch.Size([2, 4]) torch.Size([2, 4])\n",
      "torch.Size([2, 4]) torch.Size([2, 4])\n",
      "torch.Size([2, 4]) torch.Size([2, 4])\n",
      "torch.Size([2, 4]) torch.Size([2, 4])\n",
      "torch.Size([2, 4]) torch.Size([2, 4])\n",
      "torch.Size([2, 4]) torch.Size([2, 4])\n",
      "torch.Size([2, 4]) torch.Size([2, 4])\n",
      "torch.Size([2, 4]) torch.Size([2, 4])\n",
      "torch.Size([2, 4]) torch.Size([2, 4])\n",
      "torch.Size([2, 4]) torch.Size([2, 4])\n",
      "torch.Size([2, 4]) torch.Size([2, 4])\n",
      "torch.Size([2, 4]) torch.Size([2, 4])\n",
      "torch.Size([2, 4]) torch.Size([2, 4])\n",
      "torch.Size([2, 4]) torch.Size([2, 4])\n",
      "torch.Size([2, 4]) torch.Size([2, 4])\n",
      "torch.Size([2, 4]) torch.Size([2, 4])\n",
      "torch.Size([2, 4]) torch.Size([2, 4])\n",
      "torch.Size([2, 4]) torch.Size([2, 4])\n",
      "torch.Size([2, 4]) torch.Size([2, 4])\n",
      "torch.Size([2, 4]) torch.Size([2, 4])\n",
      "torch.Size([2, 4]) torch.Size([2, 4])\n",
      "torch.Size([2, 4]) torch.Size([2, 4])\n",
      "torch.Size([2, 4]) torch.Size([2, 4])\n",
      "torch.Size([2, 4]) torch.Size([2, 4])\n",
      "torch.Size([2, 4]) torch.Size([2, 4])\n",
      "torch.Size([2, 4]) torch.Size([2, 4])\n",
      "torch.Size([2, 4]) torch.Size([2, 4])\n",
      "torch.Size([2, 4]) torch.Size([2, 4])\n",
      "torch.Size([2, 4]) torch.Size([2, 4])\n",
      "torch.Size([2, 4]) torch.Size([2, 4])\n",
      "torch.Size([2, 4]) torch.Size([2, 4])\n",
      "torch.Size([2, 4]) torch.Size([2, 4])\n",
      "torch.Size([2, 4]) torch.Size([2, 4])\n",
      "torch.Size([2, 4]) torch.Size([2, 4])\n",
      "torch.Size([2, 4]) torch.Size([2, 4])\n",
      "torch.Size([2, 4]) torch.Size([2, 4])\n",
      "torch.Size([2, 4]) torch.Size([2, 4])\n",
      "torch.Size([2, 4]) torch.Size([2, 4])\n",
      "torch.Size([2, 4]) torch.Size([2, 4])\n",
      "torch.Size([2, 4]) torch.Size([2, 4])\n",
      "torch.Size([2, 4]) torch.Size([2, 4])\n",
      "torch.Size([2, 4]) torch.Size([2, 4])\n",
      "torch.Size([2, 4]) torch.Size([2, 4])\n",
      "torch.Size([2, 4]) torch.Size([2, 4])\n",
      "torch.Size([2, 4]) torch.Size([2, 4])\n",
      "torch.Size([2, 4]) torch.Size([2, 4])\n",
      "torch.Size([2, 4]) torch.Size([2, 4])\n",
      "torch.Size([2, 4]) torch.Size([2, 4])\n",
      "torch.Size([2, 4]) torch.Size([2, 4])\n",
      "torch.Size([2, 4]) torch.Size([2, 4])\n",
      "torch.Size([2, 4]) torch.Size([2, 4])\n",
      "torch.Size([2, 4]) torch.Size([2, 4])\n",
      "torch.Size([2, 4]) torch.Size([2, 4])\n",
      "torch.Size([2, 4]) torch.Size([2, 4])\n",
      "torch.Size([2, 4]) torch.Size([2, 4])\n",
      "torch.Size([2, 4]) torch.Size([2, 4])\n",
      "torch.Size([2, 4]) torch.Size([2, 4])\n",
      "torch.Size([2, 4]) torch.Size([2, 4])\n",
      "torch.Size([2, 4]) torch.Size([2, 4])\n",
      "torch.Size([2, 4]) torch.Size([2, 4])\n",
      "torch.Size([2, 4]) torch.Size([2, 4])\n",
      "torch.Size([2, 4]) torch.Size([2, 4])\n",
      "torch.Size([2, 4]) torch.Size([2, 4])\n",
      "torch.Size([2, 4]) torch.Size([2, 4])\n",
      "torch.Size([2, 4]) torch.Size([2, 4])\n",
      "torch.Size([2, 4]) torch.Size([2, 4])\n",
      "torch.Size([2, 4]) torch.Size([2, 4])\n",
      "torch.Size([2, 4]) torch.Size([2, 4])\n",
      "torch.Size([2, 4]) torch.Size([2, 4])\n",
      "torch.Size([2, 4]) torch.Size([2, 4])\n",
      "torch.Size([2, 4]) torch.Size([2, 4])\n",
      "torch.Size([2, 4]) torch.Size([2, 4])\n",
      "torch.Size([2, 4]) torch.Size([2, 4])\n",
      "torch.Size([2, 4]) torch.Size([2, 4])\n",
      "torch.Size([2, 4]) torch.Size([2, 4])\n",
      "torch.Size([2, 4]) torch.Size([2, 4])\n",
      "torch.Size([2, 4]) torch.Size([2, 4])\n",
      "torch.Size([2, 4]) torch.Size([2, 4])\n",
      "torch.Size([2, 4]) torch.Size([2, 4])\n",
      "torch.Size([2, 4]) torch.Size([2, 4])\n",
      "torch.Size([2, 4]) torch.Size([2, 4])\n",
      "torch.Size([2, 4]) torch.Size([2, 4])\n",
      "torch.Size([2, 4]) torch.Size([2, 4])\n",
      "torch.Size([2, 4]) torch.Size([2, 4])\n",
      "torch.Size([2, 4]) torch.Size([2, 4])\n",
      "torch.Size([2, 4]) torch.Size([2, 4])\n",
      "torch.Size([2, 4]) torch.Size([2, 4])\n",
      "torch.Size([2, 4]) torch.Size([2, 4])\n",
      "torch.Size([2, 4]) torch.Size([2, 4])\n",
      "torch.Size([2, 4]) torch.Size([2, 4])\n",
      "torch.Size([2, 4]) torch.Size([2, 4])\n",
      "torch.Size([2, 4]) torch.Size([2, 4])\n",
      "torch.Size([2, 4]) torch.Size([2, 4])\n",
      "torch.Size([2, 4]) torch.Size([2, 4])\n",
      "torch.Size([2, 4]) torch.Size([2, 4])\n",
      "torch.Size([2, 4]) torch.Size([2, 4])\n",
      "torch.Size([2, 4]) torch.Size([2, 4])\n",
      "torch.Size([2, 4]) torch.Size([2, 4])\n",
      "torch.Size([2, 4]) torch.Size([2, 4])\n",
      "torch.Size([2, 4]) torch.Size([2, 4])\n",
      "torch.Size([2, 4]) torch.Size([2, 4])\n",
      "torch.Size([2, 4]) torch.Size([2, 4])\n",
      "torch.Size([2, 4]) torch.Size([2, 4])\n",
      "torch.Size([2, 4]) torch.Size([2, 4])\n",
      "torch.Size([2, 4]) torch.Size([2, 4])\n",
      "torch.Size([2, 4]) torch.Size([2, 4])\n",
      "torch.Size([2, 4]) torch.Size([2, 4])\n",
      "torch.Size([2, 4]) torch.Size([2, 4])\n",
      "torch.Size([2, 4]) torch.Size([2, 4])\n",
      "torch.Size([2, 4]) torch.Size([2, 4])\n",
      "torch.Size([2, 4]) torch.Size([2, 4])\n",
      "torch.Size([2, 4]) torch.Size([2, 4])\n",
      "torch.Size([2, 4]) torch.Size([2, 4])\n",
      "torch.Size([2, 4]) torch.Size([2, 4])\n",
      "torch.Size([2, 4]) torch.Size([2, 4])\n",
      "torch.Size([2, 4]) torch.Size([2, 4])\n",
      "torch.Size([2, 4]) torch.Size([2, 4])\n",
      "torch.Size([2, 4]) torch.Size([2, 4])\n",
      "torch.Size([2, 4]) torch.Size([2, 4])\n",
      "torch.Size([2, 4]) torch.Size([2, 4])\n",
      "torch.Size([2, 4]) torch.Size([2, 4])\n",
      "torch.Size([2, 4]) torch.Size([2, 4])\n",
      "torch.Size([2, 4]) torch.Size([2, 4])\n",
      "torch.Size([2, 4]) torch.Size([2, 4])\n",
      "torch.Size([2, 4]) torch.Size([2, 4])\n",
      "torch.Size([2, 4]) torch.Size([2, 4])\n",
      "torch.Size([2, 4]) torch.Size([2, 4])\n",
      "torch.Size([2, 4]) torch.Size([2, 4])\n",
      "torch.Size([2, 4]) torch.Size([2, 4])\n",
      "torch.Size([2, 4]) torch.Size([2, 4])\n",
      "torch.Size([2, 4]) torch.Size([2, 4])\n",
      "torch.Size([2, 4]) torch.Size([2, 4])\n",
      "torch.Size([2, 4]) torch.Size([2, 4])\n",
      "torch.Size([2, 4]) torch.Size([2, 4])\n",
      "torch.Size([2, 4]) torch.Size([2, 4])\n",
      "torch.Size([2, 4]) torch.Size([2, 4])\n",
      "torch.Size([2, 4]) torch.Size([2, 4])\n",
      "torch.Size([2, 4]) torch.Size([2, 4])\n",
      "torch.Size([2, 4]) torch.Size([2, 4])\n",
      "torch.Size([2, 4]) torch.Size([2, 4])\n",
      "torch.Size([2, 4]) torch.Size([2, 4])\n",
      "torch.Size([2, 4]) torch.Size([2, 4])\n",
      "torch.Size([2, 4]) torch.Size([2, 4])\n",
      "torch.Size([2, 4]) torch.Size([2, 4])\n",
      "torch.Size([2, 4]) torch.Size([2, 4])\n",
      "torch.Size([2, 4]) torch.Size([2, 4])\n",
      "torch.Size([2, 4]) torch.Size([2, 4])\n",
      "torch.Size([2, 4]) torch.Size([2, 4])\n",
      "torch.Size([2, 4]) torch.Size([2, 4])\n",
      "torch.Size([2, 4]) torch.Size([2, 4])\n",
      "torch.Size([2, 4]) torch.Size([2, 4])\n",
      "torch.Size([2, 4]) torch.Size([2, 4])\n",
      "torch.Size([2, 4]) torch.Size([2, 4])\n",
      "torch.Size([2, 4]) torch.Size([2, 4])\n",
      "torch.Size([2, 4]) torch.Size([2, 4])\n",
      "torch.Size([2, 4]) torch.Size([2, 4])\n",
      "torch.Size([2, 4]) torch.Size([2, 4])\n",
      "torch.Size([2, 4]) torch.Size([2, 4])\n",
      "torch.Size([2, 4]) torch.Size([2, 4])\n",
      "torch.Size([2, 4]) torch.Size([2, 4])\n",
      "torch.Size([2, 4]) torch.Size([2, 4])\n",
      "torch.Size([2, 4]) torch.Size([2, 4])\n",
      "torch.Size([2, 4]) torch.Size([2, 4])\n",
      "torch.Size([2, 4]) torch.Size([2, 4])\n",
      "torch.Size([2, 4]) torch.Size([2, 4])\n",
      "torch.Size([2, 4]) torch.Size([2, 4])\n",
      "torch.Size([2, 4]) torch.Size([2, 4])\n",
      "torch.Size([2, 4]) torch.Size([2, 4])\n",
      "torch.Size([2, 4]) torch.Size([2, 4])\n",
      "torch.Size([2, 4]) torch.Size([2, 4])\n",
      "torch.Size([2, 4]) torch.Size([2, 4])\n",
      "torch.Size([2, 4]) torch.Size([2, 4])\n",
      "torch.Size([2, 4]) torch.Size([2, 4])\n",
      "torch.Size([2, 4]) torch.Size([2, 4])\n",
      "torch.Size([2, 4]) torch.Size([2, 4])\n",
      "torch.Size([2, 4]) torch.Size([2, 4])\n",
      "torch.Size([2, 4]) torch.Size([2, 4])\n",
      "torch.Size([2, 4]) torch.Size([2, 4])\n",
      "torch.Size([2, 4]) torch.Size([2, 4])\n",
      "torch.Size([2, 4]) torch.Size([2, 4])\n",
      "torch.Size([2, 4]) torch.Size([2, 4])\n",
      "torch.Size([2, 4]) torch.Size([2, 4])\n",
      "torch.Size([2, 4]) torch.Size([2, 4])\n",
      "torch.Size([2, 4]) torch.Size([2, 4])\n",
      "torch.Size([2, 4]) torch.Size([2, 4])\n",
      "torch.Size([2, 4]) torch.Size([2, 4])\n",
      "torch.Size([2, 4]) torch.Size([2, 4])\n",
      "torch.Size([2, 4]) torch.Size([2, 4])\n",
      "torch.Size([2, 4]) torch.Size([2, 4])\n",
      "torch.Size([2, 4]) torch.Size([2, 4])\n",
      "torch.Size([2, 4]) torch.Size([2, 4])\n",
      "torch.Size([2, 4]) torch.Size([2, 4])\n",
      "torch.Size([2, 4]) torch.Size([2, 4])\n",
      "torch.Size([2, 4]) torch.Size([2, 4])\n",
      "torch.Size([2, 4]) torch.Size([2, 4])\n",
      "torch.Size([2, 4]) torch.Size([2, 4])\n",
      "torch.Size([2, 4]) torch.Size([2, 4])\n",
      "torch.Size([2, 4]) torch.Size([2, 4])\n",
      "torch.Size([2, 4]) torch.Size([2, 4])\n",
      "torch.Size([2, 4]) torch.Size([2, 4])\n",
      "torch.Size([2, 4]) torch.Size([2, 4])\n",
      "torch.Size([2, 4]) torch.Size([2, 4])\n",
      "torch.Size([2, 4]) torch.Size([2, 4])\n",
      "torch.Size([2, 4]) torch.Size([2, 4])\n",
      "torch.Size([2, 4]) torch.Size([2, 4])\n",
      "torch.Size([2, 4]) torch.Size([2, 4])\n",
      "torch.Size([2, 4]) torch.Size([2, 4])\n",
      "torch.Size([2, 4]) torch.Size([2, 4])\n",
      "torch.Size([2, 4]) torch.Size([2, 4])\n",
      "torch.Size([2, 4]) torch.Size([2, 4])\n",
      "torch.Size([2, 4]) torch.Size([2, 4])\n",
      "torch.Size([2, 4]) torch.Size([2, 4])\n",
      "torch.Size([2, 4]) torch.Size([2, 4])\n",
      "torch.Size([2, 4]) torch.Size([2, 4])\n",
      "torch.Size([2, 4]) torch.Size([2, 4])\n",
      "torch.Size([2, 4]) torch.Size([2, 4])\n",
      "torch.Size([2, 4]) torch.Size([2, 4])\n",
      "torch.Size([2, 4]) torch.Size([2, 4])\n",
      "torch.Size([2, 4]) torch.Size([2, 4])\n",
      "torch.Size([2, 4]) torch.Size([2, 4])\n",
      "torch.Size([2, 4]) torch.Size([2, 4])\n",
      "torch.Size([2, 4]) torch.Size([2, 4])\n",
      "torch.Size([2, 4]) torch.Size([2, 4])\n",
      "torch.Size([2, 4]) torch.Size([2, 4])\n",
      "torch.Size([2, 4]) torch.Size([2, 4])\n",
      "torch.Size([2, 4]) torch.Size([2, 4])\n",
      "torch.Size([2, 4]) torch.Size([2, 4])\n",
      "torch.Size([2, 4]) torch.Size([2, 4])\n",
      "torch.Size([2, 4]) torch.Size([2, 4])\n",
      "torch.Size([2, 4]) torch.Size([2, 4])\n",
      "torch.Size([2, 4]) torch.Size([2, 4])\n",
      "torch.Size([2, 4]) torch.Size([2, 4])\n",
      "torch.Size([2, 4]) torch.Size([2, 4])\n",
      "torch.Size([2, 4]) torch.Size([2, 4])\n",
      "torch.Size([2, 4]) torch.Size([2, 4])\n",
      "torch.Size([2, 4]) torch.Size([2, 4])\n",
      "torch.Size([2, 4]) torch.Size([2, 4])\n",
      "torch.Size([2, 4]) torch.Size([2, 4])\n",
      "torch.Size([2, 4]) torch.Size([2, 4])\n",
      "torch.Size([2, 4]) torch.Size([2, 4])\n",
      "torch.Size([2, 4]) torch.Size([2, 4])\n",
      "torch.Size([2, 4]) torch.Size([2, 4])\n",
      "torch.Size([2, 4]) torch.Size([2, 4])\n",
      "torch.Size([2, 4]) torch.Size([2, 4])\n",
      "torch.Size([2, 4]) torch.Size([2, 4])\n",
      "torch.Size([2, 4]) torch.Size([2, 4])\n",
      "torch.Size([2, 4]) torch.Size([2, 4])\n",
      "torch.Size([2, 4]) torch.Size([2, 4])\n",
      "torch.Size([2, 4]) torch.Size([2, 4])\n",
      "torch.Size([2, 4]) torch.Size([2, 4])\n",
      "torch.Size([2, 4]) torch.Size([2, 4])\n",
      "torch.Size([2, 4]) torch.Size([2, 4])\n",
      "torch.Size([2, 4]) torch.Size([2, 4])\n",
      "torch.Size([2, 4]) torch.Size([2, 4])\n",
      "torch.Size([2, 4]) torch.Size([2, 4])\n",
      "torch.Size([2, 4]) torch.Size([2, 4])\n",
      "torch.Size([2, 4]) torch.Size([2, 4])\n",
      "torch.Size([2, 4]) torch.Size([2, 4])\n",
      "torch.Size([2, 4]) torch.Size([2, 4])\n",
      "torch.Size([2, 4]) torch.Size([2, 4])\n",
      "torch.Size([2, 4]) torch.Size([2, 4])\n",
      "torch.Size([2, 4]) torch.Size([2, 4])\n",
      "torch.Size([2, 4]) torch.Size([2, 4])\n",
      "torch.Size([2, 4]) torch.Size([2, 4])\n",
      "torch.Size([2, 4]) torch.Size([2, 4])\n",
      "torch.Size([2, 4]) torch.Size([2, 4])\n",
      "torch.Size([2, 4]) torch.Size([2, 4])\n",
      "torch.Size([2, 4]) torch.Size([2, 4])\n",
      "torch.Size([2, 4]) torch.Size([2, 4])\n",
      "torch.Size([2, 4]) torch.Size([2, 4])\n",
      "torch.Size([2, 4]) torch.Size([2, 4])\n",
      "torch.Size([2, 4]) torch.Size([2, 4])\n",
      "torch.Size([2, 4]) torch.Size([2, 4])\n",
      "torch.Size([2, 4]) torch.Size([2, 4])\n",
      "torch.Size([2, 4]) torch.Size([2, 4])\n",
      "torch.Size([2, 4]) torch.Size([2, 4])\n",
      "torch.Size([2, 4]) torch.Size([2, 4])\n",
      "torch.Size([2, 4]) torch.Size([2, 4])\n",
      "torch.Size([2, 4]) torch.Size([2, 4])\n",
      "torch.Size([2, 4]) torch.Size([2, 4])\n",
      "torch.Size([2, 4]) torch.Size([2, 4])\n",
      "torch.Size([2, 4]) torch.Size([2, 4])\n",
      "torch.Size([2, 4]) torch.Size([2, 4])\n",
      "torch.Size([2, 4]) torch.Size([2, 4])\n",
      "torch.Size([2, 4]) torch.Size([2, 4])\n",
      "\n",
      "Validation loader:\n",
      "torch.Size([2, 4]) torch.Size([2, 4])\n",
      "torch.Size([2, 4]) torch.Size([2, 4])\n",
      "torch.Size([2, 4]) torch.Size([2, 4])\n",
      "torch.Size([2, 4]) torch.Size([2, 4])\n",
      "torch.Size([2, 4]) torch.Size([2, 4])\n",
      "torch.Size([2, 4]) torch.Size([2, 4])\n",
      "torch.Size([2, 4]) torch.Size([2, 4])\n",
      "torch.Size([2, 4]) torch.Size([2, 4])\n",
      "torch.Size([2, 4]) torch.Size([2, 4])\n",
      "torch.Size([2, 4]) torch.Size([2, 4])\n",
      "torch.Size([2, 4]) torch.Size([2, 4])\n",
      "torch.Size([2, 4]) torch.Size([2, 4])\n",
      "torch.Size([2, 4]) torch.Size([2, 4])\n",
      "torch.Size([2, 4]) torch.Size([2, 4])\n",
      "torch.Size([2, 4]) torch.Size([2, 4])\n",
      "torch.Size([2, 4]) torch.Size([2, 4])\n",
      "torch.Size([2, 4]) torch.Size([2, 4])\n",
      "torch.Size([2, 4]) torch.Size([2, 4])\n",
      "torch.Size([2, 4]) torch.Size([2, 4])\n",
      "torch.Size([2, 4]) torch.Size([2, 4])\n",
      "torch.Size([2, 4]) torch.Size([2, 4])\n",
      "torch.Size([2, 4]) torch.Size([2, 4])\n",
      "torch.Size([2, 4]) torch.Size([2, 4])\n",
      "torch.Size([2, 4]) torch.Size([2, 4])\n",
      "torch.Size([2, 4]) torch.Size([2, 4])\n",
      "torch.Size([2, 4]) torch.Size([2, 4])\n",
      "torch.Size([2, 4]) torch.Size([2, 4])\n",
      "torch.Size([2, 4]) torch.Size([2, 4])\n",
      "torch.Size([2, 4]) torch.Size([2, 4])\n",
      "torch.Size([2, 4]) torch.Size([2, 4])\n",
      "torch.Size([2, 4]) torch.Size([2, 4])\n",
      "torch.Size([2, 4]) torch.Size([2, 4])\n",
      "torch.Size([2, 4]) torch.Size([2, 4])\n",
      "torch.Size([2, 4]) torch.Size([2, 4])\n",
      "torch.Size([2, 4]) torch.Size([2, 4])\n",
      "torch.Size([2, 4]) torch.Size([2, 4])\n",
      "torch.Size([2, 4]) torch.Size([2, 4])\n",
      "torch.Size([2, 4]) torch.Size([2, 4])\n",
      "torch.Size([2, 4]) torch.Size([2, 4])\n",
      "torch.Size([2, 4]) torch.Size([2, 4])\n",
      "torch.Size([2, 4]) torch.Size([2, 4])\n",
      "torch.Size([2, 4]) torch.Size([2, 4])\n",
      "torch.Size([2, 4]) torch.Size([2, 4])\n",
      "torch.Size([2, 4]) torch.Size([2, 4])\n",
      "torch.Size([2, 4]) torch.Size([2, 4])\n",
      "torch.Size([2, 4]) torch.Size([2, 4])\n",
      "torch.Size([2, 4]) torch.Size([2, 4])\n",
      "torch.Size([2, 4]) torch.Size([2, 4])\n",
      "torch.Size([2, 4]) torch.Size([2, 4])\n",
      "torch.Size([2, 4]) torch.Size([2, 4])\n",
      "torch.Size([2, 4]) torch.Size([2, 4])\n",
      "torch.Size([2, 4]) torch.Size([2, 4])\n",
      "torch.Size([2, 4]) torch.Size([2, 4])\n",
      "torch.Size([2, 4]) torch.Size([2, 4])\n",
      "torch.Size([2, 4]) torch.Size([2, 4])\n",
      "torch.Size([2, 4]) torch.Size([2, 4])\n",
      "torch.Size([2, 4]) torch.Size([2, 4])\n",
      "torch.Size([2, 4]) torch.Size([2, 4])\n",
      "torch.Size([2, 4]) torch.Size([2, 4])\n",
      "torch.Size([2, 4]) torch.Size([2, 4])\n",
      "torch.Size([2, 4]) torch.Size([2, 4])\n",
      "torch.Size([2, 4]) torch.Size([2, 4])\n",
      "torch.Size([2, 4]) torch.Size([2, 4])\n",
      "torch.Size([2, 4]) torch.Size([2, 4])\n",
      "torch.Size([2, 4]) torch.Size([2, 4])\n",
      "torch.Size([2, 4]) torch.Size([2, 4])\n",
      "torch.Size([1, 4]) torch.Size([1, 4])\n"
     ]
    }
   ],
   "source": [
    "print(\"Train loader:\")\n",
    "for x, y in train_loader:\n",
    "    print(x.shape, y.shape)\n",
    "\n",
    "print(\"\\nValidation loader:\")\n",
    "for x, y in val_loader:\n",
    "    print(x.shape, y.shape)\n",
    "    "
   ]
  },
  {
   "cell_type": "code",
   "execution_count": 22,
   "metadata": {},
   "outputs": [],
   "source": [
    "def calc_loss_batch(input_batch, target_batch, model, device):\n",
    "    input_batch = input_batch.to(device)         #1\n",
    "    target_batch = target_batch.to(device)      \n",
    "    logits = model(input_batch)\n",
    "    loss = torch.nn.functional.cross_entropy(\n",
    "        logits.flatten(0, 1), target_batch.flatten()\n",
    "    )\n",
    "    return loss"
   ]
  },
  {
   "cell_type": "code",
   "execution_count": 23,
   "metadata": {},
   "outputs": [],
   "source": [
    "def calc_loss_loader(data_loader, model, device, num_batches=None):\n",
    "    total_loss = 0.\n",
    "    if len(data_loader) == 0:\n",
    "        return float(\"nan\")\n",
    "    elif num_batches is None:\n",
    "        num_batches = len(data_loader)     #1\n",
    "    else:\n",
    "        num_batches = min(num_batches, len(data_loader))   #2\n",
    "    for i, (input_batch, target_batch) in enumerate(data_loader):\n",
    "        if i < num_batches:\n",
    "            loss = calc_loss_batch(\n",
    "                input_batch, target_batch, model, device\n",
    "            )\n",
    "            total_loss += loss.item()    #3\n",
    "        else:\n",
    "            break\n",
    "    return total_loss / num_batches    #4"
   ]
  },
  {
   "cell_type": "code",
   "execution_count": 24,
   "metadata": {},
   "outputs": [
    {
     "name": "stdout",
     "output_type": "stream",
     "text": [
      "Training loss: 10.992170822289255\n",
      "Validation loss: 10.986001213984704\n"
     ]
    }
   ],
   "source": [
    "device = torch.device(\"cuda\" if torch.cuda.is_available() else \"cpu\")\n",
    "model.to(device)   #1\n",
    "with torch.no_grad():                                        #2\n",
    "    train_loss = calc_loss_loader(train_loader, model, device)    #3\n",
    "    val_loss = calc_loss_loader(val_loader, model, device)\n",
    "print(\"Training loss:\", train_loss)\n",
    "print(\"Validation loss:\", val_loss)"
   ]
  },
  {
   "cell_type": "markdown",
   "metadata": {},
   "source": [
    "### Training"
   ]
  },
  {
   "cell_type": "markdown",
   "metadata": {},
   "source": [
    "Algorithm is as follows:\n",
    "\n",
    "1.Iterate over the training epochs.\n",
    "2.Iteraite over the training batches in that epoch.\n",
    "3.Reset the gradients from the previous batch.\n",
    "4.Calculate the loss for the batch.\n",
    "5.Backpropagate the loss.\n",
    "6.Update the model parameters.\n",
    "7.Calculate the validation loss.\n",
    "8.Print the training and validation losses.\n",
    "9.Save the model if the validation loss is the lowest.\n",
    "10.Generate sample text from the model.\n",
    "11.Go back to step 1 if there are more epochs to train.\n"
   ]
  },
  {
   "cell_type": "code",
   "execution_count": 25,
   "metadata": {},
   "outputs": [],
   "source": [
    "def evaluate_model(model, train_loader, val_loader, device, eval_iter):\n",
    "    model.eval()  #1\n",
    "    with torch.no_grad():                              #2\n",
    "        train_loss = calc_loss_loader(\n",
    "            train_loader, model, device, num_batches=eval_iter\n",
    "        )\n",
    "        val_loss = calc_loss_loader(\n",
    "            val_loader, model, device, num_batches=eval_iter\n",
    "        )\n",
    "    model.train()\n",
    "    return train_loss, val_loss"
   ]
  },
  {
   "cell_type": "code",
   "execution_count": 26,
   "metadata": {},
   "outputs": [],
   "source": [
    "def generate_and_print_sample(model, tokenizer, device, start_context):\n",
    "    model.eval()\n",
    "    context_size = model.pos_emb.weight.shape[0]\n",
    "    encoded = text_to_token_ids(start_context, tokenizer).to(device)\n",
    "    with torch.no_grad():\n",
    "        token_ids = generate_text_simple(\n",
    "            model=model, idx=encoded,\n",
    "            max_new_tokens=50, context_size=context_size\n",
    "        )\n",
    "    decoded_text = token_ids_to_text(token_ids, tokenizer)\n",
    "    print(decoded_text.replace(\"\\n\", \" \"))      #1\n",
    "    model.train()"
   ]
  },
  {
   "cell_type": "code",
   "execution_count": 27,
   "metadata": {},
   "outputs": [],
   "source": [
    "def train_model_simple(model, train_loader, val_loader,\n",
    "                       optimizer, device, num_epochs,\n",
    "                       eval_freq, eval_iter, start_context, tokenizer):\n",
    "    train_losses, val_losses, track_tokens_seen = [], [], []    #1\n",
    "    tokens_seen, global_step = 0, -1\n",
    "\n",
    "    for epoch in range(num_epochs):    #2\n",
    "        model.train()\n",
    "        for input_batch, target_batch in train_loader:\n",
    "            optimizer.zero_grad()   #3\n",
    "            loss = calc_loss_batch(\n",
    "                input_batch, target_batch, model, device\n",
    "            )\n",
    "            loss.backward()                     #4\n",
    "            optimizer.step()                    #5\n",
    "            tokens_seen += input_batch.numel()\n",
    "            global_step += 1\n",
    "\n",
    "            if global_step % eval_freq == 0:    #6\n",
    "                train_loss, val_loss = evaluate_model(\n",
    "                    model, train_loader, val_loader, device, eval_iter)\n",
    "                train_losses.append(train_loss)\n",
    "                val_losses.append(val_loss)\n",
    "                track_tokens_seen.append(tokens_seen)\n",
    "                print(f\"Ep {epoch+1} (Step {global_step:06d}): \"\n",
    "                      f\"Train loss {train_loss:.3f}, \"\n",
    "                      f\"Val loss {val_loss:.3f}\"\n",
    "                )\n",
    "\n",
    "        generate_and_print_sample(                      #7\n",
    "            model, tokenizer, device, start_context\n",
    "        )\n",
    "    return train_losses, val_losses, track_tokens_seen"
   ]
  },
  {
   "cell_type": "code",
   "execution_count": null,
   "metadata": {},
   "outputs": [],
   "source": [
    "torch.manual_seed(123)\n",
    "model = GPTModel(GPT_CONFIG_124M)\n",
    "model.to(device)\n",
    "optimizer = torch.optim.AdamW(\n",
    "     model.parameters(),           #1\n",
    "    lr=0.0004, weight_decay=0.1\n",
    ")\n",
    "num_epochs = 10\n",
    "train_losses, val_losses, tokens_seen = train_model_simple(\n",
    "    model, train_loader, val_loader, optimizer, device,\n",
    "    num_epochs=num_epochs, eval_freq=5, eval_iter=5,\n",
    "    start_context=\"Every effort moves you\", tokenizer=tokenizer\n",
    ")"
   ]
  },
  {
   "cell_type": "code",
   "execution_count": null,
   "metadata": {},
   "outputs": [],
   "source": [
    "import matplotlib.pyplot as plt\n",
    "from matplotlib.ticker import MaxNLocator\n",
    "def plot_losses(epochs_seen, tokens_seen, train_losses, val_losses):\n",
    "    fig, ax1 = plt.subplots(figsize=(5, 3))\n",
    "    ax1.plot(epochs_seen, train_losses, label=\"Training loss\")\n",
    "    ax1.plot(\n",
    "        epochs_seen, val_losses, linestyle=\"-.\", label=\"Validation loss\"\n",
    "    )\n",
    "    ax1.set_xlabel(\"Epochs\")\n",
    "    ax1.set_ylabel(\"Loss\")\n",
    "    ax1.legend(loc=\"upper right\")\n",
    "    ax1.xaxis.set_major_locator(MaxNLocator(integer=True))\n",
    "    ax2 = ax1.twiny()                   #1\n",
    "    ax2.plot(tokens_seen, train_losses, alpha=0)     #2\n",
    "    ax2.set_xlabel(\"Tokens seen\")\n",
    "    fig.tight_layout()\n",
    "    plt.show()\n",
    "\n",
    "epochs_tensor = torch.linspace(0, num_epochs, len(train_losses))\n",
    "plot_losses(epochs_tensor, tokens_seen, train_losses, val_losses)"
   ]
  },
  {
   "cell_type": "markdown",
   "metadata": {},
   "source": [
    "### Temperature scaling"
   ]
  },
  {
   "cell_type": "markdown",
   "metadata": {},
   "source": [
    "Instead of always picking the most likely next token, we can sample from the model's predictions.\n",
    "\n"
   ]
  },
  {
   "cell_type": "code",
   "execution_count": 5,
   "metadata": {},
   "outputs": [],
   "source": [
    "vocab = { \n",
    "    \"closer\": 0,\n",
    "    \"every\": 1, \n",
    "    \"effort\": 2, \n",
    "    \"forward\": 3,\n",
    "    \"inches\": 4,\n",
    "    \"moves\": 5, \n",
    "    \"pizza\": 6,\n",
    "    \"toward\": 7,\n",
    "    \"you\": 8,\n",
    "} \n",
    "inverse_vocab = {v: k for k, v in vocab.items()}"
   ]
  },
  {
   "cell_type": "code",
   "execution_count": 4,
   "metadata": {},
   "outputs": [],
   "source": [
    "import torch\n",
    "next_token_logits = torch.tensor(\n",
    "    [4.51, 0.89, -1.90, 6.75, 1.63, -1.62, -1.89, 6.28, 1.79]\n",
    ")"
   ]
  },
  {
   "cell_type": "code",
   "execution_count": 6,
   "metadata": {},
   "outputs": [
    {
     "name": "stdout",
     "output_type": "stream",
     "text": [
      "forward\n"
     ]
    }
   ],
   "source": [
    "probas = torch.softmax(next_token_logits, dim=0)\n",
    "next_token_id = torch.argmax(probas).item()\n",
    "print(inverse_vocab[next_token_id])"
   ]
  },
  {
   "cell_type": "code",
   "execution_count": 7,
   "metadata": {},
   "outputs": [
    {
     "name": "stdout",
     "output_type": "stream",
     "text": [
      "toward\n"
     ]
    }
   ],
   "source": [
    "torch.manual_seed(123) \n",
    "next_token_id = torch.multinomial(probas, num_samples=1).item()\n",
    "print(inverse_vocab[next_token_id])"
   ]
  },
  {
   "cell_type": "code",
   "execution_count": 8,
   "metadata": {},
   "outputs": [
    {
     "name": "stdout",
     "output_type": "stream",
     "text": [
      "71 x closer\n",
      "2 x every\n",
      "0 x effort\n",
      "544 x forward\n",
      "2 x inches\n",
      "1 x moves\n",
      "0 x pizza\n",
      "376 x toward\n",
      "4 x you\n"
     ]
    }
   ],
   "source": [
    "def print_sampled_tokens(probas):\n",
    "    torch.manual_seed(123)\n",
    "    sample = [torch.multinomial(probas, num_samples=1).item()\n",
    "             for i in range(1_000)]\n",
    "    sampled_ids = torch.bincount(torch.tensor(sample))\n",
    "    for i, freq in enumerate(sampled_ids):\n",
    "        print(f\"{freq} x {inverse_vocab[i]}\")\n",
    "\n",
    "print_sampled_tokens(probas)"
   ]
  },
  {
   "cell_type": "code",
   "execution_count": 14,
   "metadata": {},
   "outputs": [
    {
     "data": {
      "image/png": "[encoded data removed]",
      "text/plain": [
       "<Figure size 500x300 with 1 Axes>"
      ]
     },
     "metadata": {},
     "output_type": "display_data"
    }
   ],
   "source": [
    "import matplotlib.pyplot as plt\n",
    "def softmax_with_temperature(logits, temperature):\n",
    "    scaled_logits = logits / temperature\n",
    "    return torch.softmax(scaled_logits, dim=0)\n",
    "\n",
    "temperatures = [1, 0.1, 5]                                     #1\n",
    "scaled_probas = [softmax_with_temperature(next_token_logits, T)\n",
    "                for T in temperatures]\n",
    "x = torch.arange(len(vocab))\n",
    "bar_width = 0.15\n",
    "fig, ax = plt.subplots(figsize=(5, 3))\n",
    "for i, T in enumerate(temperatures):\n",
    "    rects = ax.bar(x + i * bar_width, scaled_probas[i], \n",
    "                   bar_width, label=f'Temperature = {T}')\n",
    "ax.set_ylabel('Probability')\n",
    "ax.set_xticks(x)\n",
    "ax.set_xticklabels(vocab.keys(), rotation=90)\n",
    "ax.legend()\n",
    "plt.tight_layout()\n",
    "plt.show()\n"
   ]
  },
  {
   "cell_type": "markdown",
   "metadata": {},
   "source": [
    "Let's say that we had logits [0.1, 0.2, 0.3, 0.4] and we wanted to scale them by a temperature of 0.1.\n",
    "\n",
    "Then we would have the following scaled logits:\n",
    "\n",
    "tensor([0.0321, 0.0871, 0.2369, 0.6439])\n",
    "\n",
    "\n",
    "We can see that if temperature is 0.1, the model is more confident in its predictions and makes more sharp predictions getting close to the argmax approach\n",
    "\n"
   ]
  },
  {
   "cell_type": "code",
   "execution_count": 17,
   "metadata": {},
   "outputs": [
    {
     "data": {
      "text/plain": [
       "tensor([0.0321, 0.0871, 0.2369, 0.6439])"
      ]
     },
     "execution_count": 17,
     "metadata": {},
     "output_type": "execute_result"
    }
   ],
   "source": [
    "softmax_with_temperature(torch.tensor([0.1, 0.2, 0.3, 0.4] ), 0.1)"
   ]
  },
  {
   "cell_type": "markdown",
   "metadata": {},
   "source": [
    "This result may also result in gramaticaly incorrect predictions.\n",
    "\n",
    "So we can improve the results by using top-k sampling.\n",
    "\n",
    "While sampling we can only sample from the top k tokens.\n",
    "\n"
   ]
  },
  {
   "cell_type": "code",
   "execution_count": 18,
   "metadata": {},
   "outputs": [
    {
     "name": "stdout",
     "output_type": "stream",
     "text": [
      "Top logits: tensor([6.7500, 6.2800, 4.5100])\n",
      "Top positions: tensor([3, 7, 0])\n"
     ]
    }
   ],
   "source": [
    "top_k = 3\n",
    "top_logits, top_pos = torch.topk(next_token_logits, top_k)\n",
    "print(\"Top logits:\", top_logits)\n",
    "print(\"Top positions:\", top_pos)"
   ]
  },
  {
   "cell_type": "code",
   "execution_count": 19,
   "metadata": {},
   "outputs": [
    {
     "name": "stdout",
     "output_type": "stream",
     "text": [
      "tensor([4.5100,   -inf,   -inf, 6.7500,   -inf,   -inf,   -inf, 6.2800,   -inf])\n"
     ]
    }
   ],
   "source": [
    "new_logits = torch.where(\n",
    "    condition=next_token_logits < top_logits[-1],    #1\n",
    "    input=torch.tensor(float('-inf')),     #2\n",
    "    other=next_token_logits     #3\n",
    ")\n",
    "print(new_logits)"
   ]
  },
  {
   "cell_type": "code",
   "execution_count": 20,
   "metadata": {},
   "outputs": [
    {
     "name": "stdout",
     "output_type": "stream",
     "text": [
      "tensor([0.0615, 0.0000, 0.0000, 0.5775, 0.0000, 0.0000, 0.0000, 0.3610, 0.0000])\n"
     ]
    }
   ],
   "source": [
    "topk_probas = torch.softmax(new_logits, dim=0)\n",
    "print(topk_probas)"
   ]
  },
  {
   "cell_type": "markdown",
   "metadata": {},
   "source": [
    "### Saving the model weights\n",
    "\n",
    "\n",
    "\n",
    "\n",
    "\n"
   ]
  },
  {
   "cell_type": "code",
   "execution_count": null,
   "metadata": {},
   "outputs": [],
   "source": [
    "'''\n",
    "torch.save(model.state_dict(), \"model.pth\")\n",
    "model = GPTModel(GPT_CONFIG_124M)\n",
    "model.load_state_dict(torch.load(\"model.pth\", map_location=device))\n",
    "model.eval()\n",
    "\n",
    "\n",
    "torch.save({\n",
    "    \"model_state_dict\": model.state_dict(),\n",
    "    \"optimizer_state_dict\": optimizer.state_dict(),\n",
    "    }, \n",
    "    \"model_and_optimizer.pth\"\n",
    ")\n",
    "\n",
    "checkpoint = torch.load(\"model_and_optimizer.pth\", map_location=device)\n",
    "model = GPTModel(GPT_CONFIG_124M)\n",
    "model.load_state_dict(checkpoint[\"model_state_dict\"])\n",
    "optimizer = torch.optim.AdamW(model.parameters(), lr=5e-4, weight_decay=0.1)\n",
    "optimizer.load_state_dict(checkpoint[\"optimizer_state_dict\"])\n",
    "model.train();\n",
    "\n",
    "'''\n",
    "\n",
    "\n"
   ]
  },
  {
   "cell_type": "markdown",
   "metadata": {},
   "source": [
    "### Getting the weights of GPT-2"
   ]
  },
  {
   "cell_type": "code",
   "execution_count": 22,
   "metadata": {},
   "outputs": [
    {
     "data": {
      "text/plain": [
       "('gpt_download.py', <http.client.HTTPMessage at 0x78dbedb0e000>)"
      ]
     },
     "execution_count": 22,
     "metadata": {},
     "output_type": "execute_result"
    }
   ],
   "source": [
    "import urllib.request\n",
    "url = (\n",
    "    \"https://raw.githubusercontent.com/rasbt/\"\n",
    "    \"LLMs-from-scratch/main/ch05/\"\n",
    "    \"01_main-chapter-code/gpt_download.py\"\n",
    ")\n",
    "filename = url.split('/')[-1]\n",
    "urllib.request.urlretrieve(url, filename)"
   ]
  },
  {
   "cell_type": "code",
   "execution_count": 24,
   "metadata": {},
   "outputs": [
    {
     "name": "stderr",
     "output_type": "stream",
     "text": [
      "2025-02-12 13:55:18.023637: I tensorflow/core/util/port.cc:153] oneDNN custom operations are on. You may see slightly different numerical results due to floating-point round-off errors from different computation orders. To turn them off, set the environment variable `TF_ENABLE_ONEDNN_OPTS=0`.\n",
      "2025-02-12 13:55:18.033261: E external/local_xla/xla/stream_executor/cuda/cuda_fft.cc:477] Unable to register cuFFT factory: Attempting to register factory for plugin cuFFT when one has already been registered\n",
      "WARNING: All log messages before absl::InitializeLog() is called are written to STDERR\n",
      "E0000 00:00:1739357718.045804    6983 cuda_dnn.cc:8310] Unable to register cuDNN factory: Attempting to register factory for plugin cuDNN when one has already been registered\n",
      "E0000 00:00:1739357718.049562    6983 cuda_blas.cc:1418] Unable to register cuBLAS factory: Attempting to register factory for plugin cuBLAS when one has already been registered\n",
      "2025-02-12 13:55:18.062101: I tensorflow/core/platform/cpu_feature_guard.cc:210] This TensorFlow binary is optimized to use available CPU instructions in performance-critical operations.\n",
      "To enable the following instructions: AVX2 AVX512F AVX512_VNNI FMA, in other operations, rebuild TensorFlow with the appropriate compiler flags.\n",
      "checkpoint: 100%|██████████| 77.0/77.0 [00:00<00:00, 93.0kiB/s]\n",
      "encoder.json: 100%|██████████| 1.04M/1.04M [00:12<00:00, 82.0kiB/s]\n",
      "hparams.json: 100%|██████████| 90.0/90.0 [00:00<00:00, 107kiB/s]\n",
      "model.ckpt.data-00000-of-00001: 100%|██████████| 498M/498M [15:00<00:00, 553kiB/s]    \n",
      "model.ckpt.index: 100%|██████████| 5.21k/5.21k [00:00<00:00, 4.92MiB/s]\n",
      "model.ckpt.meta: 100%|██████████| 471k/471k [00:01<00:00, 434kiB/s]  \n",
      "vocab.bpe: 100%|██████████| 456k/456k [00:00<00:00, 514kiB/s]  \n"
     ]
    }
   ],
   "source": [
    "from gpt_download import download_and_load_gpt2\n",
    "settings, params = download_and_load_gpt2(\n",
    "    model_size=\"124M\", models_dir=\"gpt2\"\n",
    ")"
   ]
  },
  {
   "cell_type": "code",
   "execution_count": 25,
   "metadata": {},
   "outputs": [
    {
     "name": "stdout",
     "output_type": "stream",
     "text": [
      "Settings: {'n_vocab': 50257, 'n_ctx': 1024, 'n_embd': 768, 'n_head': 12, 'n_layer': 12}\n",
      "Parameter dictionary keys: dict_keys(['blocks', 'b', 'g', 'wpe', 'wte'])\n"
     ]
    }
   ],
   "source": [
    "print(\"Settings:\", settings)\n",
    "print(\"Parameter dictionary keys:\", params.keys())"
   ]
  },
  {
   "cell_type": "code",
   "execution_count": 26,
   "metadata": {},
   "outputs": [
    {
     "name": "stdout",
     "output_type": "stream",
     "text": [
      "[[-0.11010301 -0.03926672  0.03310751 ... -0.1363697   0.01506208\n",
      "   0.04531523]\n",
      " [ 0.04034033 -0.04861503  0.04624869 ...  0.08605453  0.00253983\n",
      "   0.04318958]\n",
      " [-0.12746179  0.04793796  0.18410145 ...  0.08991534 -0.12972379\n",
      "  -0.08785918]\n",
      " ...\n",
      " [-0.04453601 -0.05483596  0.01225674 ...  0.10435229  0.09783269\n",
      "  -0.06952604]\n",
      " [ 0.1860082   0.01665728  0.04611587 ... -0.09625227  0.07847701\n",
      "  -0.02245961]\n",
      " [ 0.05135201 -0.02768905  0.0499369  ...  0.00704835  0.15519823\n",
      "   0.12067825]]\n",
      "Token embedding weight tensor dimensions: (50257, 768)\n"
     ]
    }
   ],
   "source": [
    "print(params[\"wte\"])\n",
    "print(\"Token embedding weight tensor dimensions:\", params[\"wte\"].shape)"
   ]
  },
  {
   "cell_type": "code",
   "execution_count": 27,
   "metadata": {},
   "outputs": [],
   "source": [
    "model_configs = {\n",
    "    \"gpt2-small (124M)\": {\"emb_dim\": 768, \"n_layers\": 12, \"n_heads\": 12},\n",
    "    \"gpt2-medium (355M)\": {\"emb_dim\": 1024, \"n_layers\": 24, \"n_heads\": 16},\n",
    "    \"gpt2-large (774M)\": {\"emb_dim\": 1280, \"n_layers\": 36, \"n_heads\": 20},\n",
    "    \"gpt2-xl (1558M)\": {\"emb_dim\": 1600, \"n_layers\": 48, \"n_heads\": 25},\n",
    "}"
   ]
  },
  {
   "cell_type": "code",
   "execution_count": 36,
   "metadata": {},
   "outputs": [
    {
     "name": "stdout",
     "output_type": "stream",
     "text": [
      "Memory stats 1:\n",
      "Allocated: 1.11 GB\n",
      "Cached: 1.38 GB\n",
      "Output text:\n",
      " Every effort moves you Spirits caves Feng lith cohorts Physical Position Wind Bars Vern\n",
      "Memory stats 2:\n",
      "Allocated: 1.11 GB\n",
      "Cached: 1.38 GB\n",
      "Memory stats 3:\n",
      "Allocated: 1.77 GB\n",
      "Cached: 1.88 GB\n",
      "Memory stats 4:\n",
      "Allocated: 1.77 GB\n",
      "Cached: 1.88 GB\n",
      "Memory stats 5:\n",
      "Allocated: 1.77 GB\n",
      "Cached: 1.88 GB\n"
     ]
    }
   ],
   "source": [
    "GPT_CONFIG_124M = {\n",
    "    \"vocab_size\": 50257,\n",
    "    \"context_length\": 4,    #1\n",
    "    \"emb_dim\": 768,\n",
    "    \"n_heads\": 12,\n",
    "    \"n_layers\": 12, \n",
    "    \"drop_rate\": 0.1,       #2\n",
    "    \"qkv_bias\": False\n",
    "}\n",
    "\n",
    "model_name = \"gpt2-small (124M)\"\n",
    "NEW_CONFIG = GPT_CONFIG_124M.copy()\n",
    "NEW_CONFIG.update(model_configs[model_name])\n",
    "NEW_CONFIG.update({\"context_length\": 1024})\n",
    "NEW_CONFIG.update({\"qkv_bias\": True})\n",
    "\n",
    "\n",
    "from final_gpt import GPTModel\n",
    "\n",
    "\n",
    "gpt = GPTModel(NEW_CONFIG)\n",
    "gpt.eval()\n",
    "\n",
    "def assign(left, right):\n",
    "    if left.shape != right.shape:\n",
    "        raise ValueError(f\"Shape mismatch. Left: {left.shape}, \"\n",
    "                          \"Right: {right.shape}\"\n",
    "        )\n",
    "    return torch.nn.Parameter(torch.tensor(right))\n"
   ]
  },
  {
   "cell_type": "code",
   "execution_count": 37,
   "metadata": {},
   "outputs": [],
   "source": [
    "import numpy as np\n",
    "\n",
    "def load_weights_into_gpt(gpt, params):           #1\n",
    "    gpt.pos_emb.weight = assign(gpt.pos_emb.weight, params['wpe'])\n",
    "    gpt.tok_emb.weight = assign(gpt.tok_emb.weight, params['wte'])\n",
    "\n",
    "    for b in range(len(params[\"blocks\"])):     #2\n",
    "        q_w, k_w, v_w = np.split(                            #3\n",
    "            (params[\"blocks\"][b][\"attn\"][\"c_attn\"])[\"w\"], 3, axis=-1)\n",
    "        gpt.trf_blocks[b].att.W_query.weight = assign(\n",
    "            gpt.trf_blocks[b].att.W_query.weight, q_w.T)\n",
    "        gpt.trf_blocks[b].att.W_key.weight = assign(\n",
    "            gpt.trf_blocks[b].att.W_key.weight, k_w.T)\n",
    "        gpt.trf_blocks[b].att.W_value.weight = assign(\n",
    "            gpt.trf_blocks[b].att.W_value.weight, v_w.T)\n",
    "\n",
    "        q_b, k_b, v_b = np.split(\n",
    "            (params[\"blocks\"][b][\"attn\"][\"c_attn\"])[\"b\"], 3, axis=-1)\n",
    "        gpt.trf_blocks[b].att.W_query.bias = assign(\n",
    "            gpt.trf_blocks[b].att.W_query.bias, q_b)\n",
    "        gpt.trf_blocks[b].att.W_key.bias = assign(\n",
    "            gpt.trf_blocks[b].att.W_key.bias, k_b)\n",
    "        gpt.trf_blocks[b].att.W_value.bias = assign(\n",
    "            gpt.trf_blocks[b].att.W_value.bias, v_b)\n",
    "\n",
    "        gpt.trf_blocks[b].att.out_proj.weight = assign(\n",
    "            gpt.trf_blocks[b].att.out_proj.weight, \n",
    "            params[\"blocks\"][b][\"attn\"][\"c_proj\"][\"w\"].T)\n",
    "        gpt.trf_blocks[b].att.out_proj.bias = assign(\n",
    "            gpt.trf_blocks[b].att.out_proj.bias, \n",
    "            params[\"blocks\"][b][\"attn\"][\"c_proj\"][\"b\"])\n",
    "\n",
    "        gpt.trf_blocks[b].ff.layers[0].weight = assign(\n",
    "            gpt.trf_blocks[b].ff.layers[0].weight, \n",
    "            params[\"blocks\"][b][\"mlp\"][\"c_fc\"][\"w\"].T)\n",
    "        gpt.trf_blocks[b].ff.layers[0].bias = assign(\n",
    "            gpt.trf_blocks[b].ff.layers[0].bias, \n",
    "            params[\"blocks\"][b][\"mlp\"][\"c_fc\"][\"b\"])\n",
    "        gpt.trf_blocks[b].ff.layers[2].weight = assign(\n",
    "            gpt.trf_blocks[b].ff.layers[2].weight, \n",
    "            params[\"blocks\"][b][\"mlp\"][\"c_proj\"][\"w\"].T)\n",
    "        gpt.trf_blocks[b].ff.layers[2].bias = assign(\n",
    "            gpt.trf_blocks[b].ff.layers[2].bias, \n",
    "            params[\"blocks\"][b][\"mlp\"][\"c_proj\"][\"b\"])\n",
    "\n",
    "        gpt.trf_blocks[b].norm1.scale = assign(\n",
    "            gpt.trf_blocks[b].norm1.scale, \n",
    "            params[\"blocks\"][b][\"ln_1\"][\"g\"])\n",
    "        gpt.trf_blocks[b].norm1.shift = assign(\n",
    "            gpt.trf_blocks[b].norm1.shift, \n",
    "            params[\"blocks\"][b][\"ln_1\"][\"b\"])\n",
    "        gpt.trf_blocks[b].norm2.scale = assign(\n",
    "            gpt.trf_blocks[b].norm2.scale, \n",
    "            params[\"blocks\"][b][\"ln_2\"][\"g\"])\n",
    "        gpt.trf_blocks[b].norm2.shift = assign(\n",
    "            gpt.trf_blocks[b].norm2.shift, \n",
    "            params[\"blocks\"][b][\"ln_2\"][\"b\"])\n",
    "\n",
    "    gpt.final_norm.scale = assign(gpt.final_norm.scale, params[\"g\"])\n",
    "    gpt.final_norm.shift = assign(gpt.final_norm.shift, params[\"b\"])\n",
    "    gpt.out_head.weight = assign(gpt.out_head.weight, params[\"wte\"])    #4"
   ]
  },
  {
   "cell_type": "code",
   "execution_count": null,
   "metadata": {},
   "outputs": [],
   "source": [
    "load_weights_into_gpt(gpt, params)\n",
    "gpt.to(device)"
   ]
  },
  {
   "cell_type": "code",
   "execution_count": null,
   "metadata": {},
   "outputs": [],
   "source": [
    "torch.manual_seed(123)\n",
    "token_ids = generate(\n",
    "    model=gpt,\n",
    "    idx=text_to_token_ids(\"Every effort moves you\", tokenizer).to(device),\n",
    "    max_new_tokens=25,\n",
    "    context_size=NEW_CONFIG[\"context_length\"],\n",
    "    top_k=50,\n",
    "    temperature=1.5\n",
    ")\n",
    "print(\"Output text:\\n\", token_ids_to_text(token_ids, tokenizer))"
   ]
  }
 ],
 "metadata": {
  "kernelspec": {
   "display_name": "torch",
   "language": "python",
   "name": "torch"
  },
  "language_info": {
   "codemirror_mode": {
    "name": "ipython",
    "version": 3
   },
   "file_extension": ".py",
   "mimetype": "text/x-python",
   "name": "python",
   "nbconvert_exporter": "python",
   "pygments_lexer": "ipython3",
   "version": "3.12.8"
  }
 },
 "nbformat": 4,
 "nbformat_minor": 2
}
